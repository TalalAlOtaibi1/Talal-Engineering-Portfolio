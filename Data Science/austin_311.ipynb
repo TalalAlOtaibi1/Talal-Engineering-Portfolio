{
  "nbformat": 4,
  "nbformat_minor": 0,
  "metadata": {
    "colab": {
      "name": "activity1.ipynb",
      "provenance": [],
      "collapsed_sections": []
    },
    "kernelspec": {
      "name": "python3",
      "display_name": "Python 3"
    },
    "language_info": {
      "name": "python"
    }
  },
  "cells": [
    {
      "cell_type": "code",
      "execution_count": 43,
      "metadata": {
        "id": "r3f9OHlSIeNo"
      },
      "outputs": [],
      "source": [
        "import pandas as pd\n",
        "import numpy as np\n",
        "\n",
        "import matplotlib as mpl\n",
        "from matplotlib import pyplot as plt\n",
        "\n",
        "import seaborn as sns\n",
        "\n",
        "from sklearn.preprocessing import scale\n",
        "from sklearn.model_selection import train_test_split\n",
        "\n",
        "from sklearn.metrics import roc_auc_score\n",
        "\n",
        "from sklearn.linear_model import LogisticRegression\n",
        "from sklearn.naive_bayes import GaussianNB\n",
        "from sklearn.svm import SVC\n",
        "\n",
        "\n",
        "\n",
        "from sklearn.metrics import confusion_matrix\n",
        "from sklearn.model_selection import cross_val_score\n",
        "\n",
        "from sklearn.metrics import mean_absolute_percentage_error\n",
        "\n"
      ]
    },
    {
      "cell_type": "code",
      "source": [
        "df = pd.read_csv('/content/drive/MyDrive/Data Science/Data/austin_311.csv')"
      ],
      "metadata": {
        "id": "qBqjtMpIKhhn",
        "colab": {
          "base_uri": "https://localhost:8080/"
        },
        "outputId": "20bc4412-6964-4046-f76f-059e1b063993"
      },
      "execution_count": 5,
      "outputs": [
        {
          "output_type": "stream",
          "name": "stderr",
          "text": [
            "/usr/local/lib/python3.7/dist-packages/IPython/core/interactiveshell.py:2882: DtypeWarning: Columns (5) have mixed types.Specify dtype option on import or set low_memory=False.\n",
            "  exec(code_obj, self.user_global_ns, self.user_ns)\n"
          ]
        }
      ]
    },
    {
      "cell_type": "markdown",
      "source": [
        "### ***Preprocessing***"
      ],
      "metadata": {
        "id": "kdKDvE4JmyE2"
      }
    },
    {
      "cell_type": "code",
      "source": [
        "df.head()"
      ],
      "metadata": {
        "colab": {
          "base_uri": "https://localhost:8080/",
          "height": 565
        },
        "id": "TW73_SnQPpqU",
        "outputId": "ab6d60d2-1b50-4d63-e4ef-79c9bb95fb17"
      },
      "execution_count": 6,
      "outputs": [
        {
          "output_type": "execute_result",
          "data": {
            "text/html": [
              "\n",
              "  <div id=\"df-d269cfbf-4d58-45b4-b3a7-e410744fbdf1\">\n",
              "    <div class=\"colab-df-container\">\n",
              "      <div>\n",
              "<style scoped>\n",
              "    .dataframe tbody tr th:only-of-type {\n",
              "        vertical-align: middle;\n",
              "    }\n",
              "\n",
              "    .dataframe tbody tr th {\n",
              "        vertical-align: top;\n",
              "    }\n",
              "\n",
              "    .dataframe thead th {\n",
              "        text-align: right;\n",
              "    }\n",
              "</style>\n",
              "<table border=\"1\" class=\"dataframe\">\n",
              "  <thead>\n",
              "    <tr style=\"text-align: right;\">\n",
              "      <th></th>\n",
              "      <th>Service Request (SR) Number</th>\n",
              "      <th>SR Description</th>\n",
              "      <th>Method Received</th>\n",
              "      <th>SR Status</th>\n",
              "      <th>SR Location</th>\n",
              "      <th>Street Number</th>\n",
              "      <th>Street Name</th>\n",
              "      <th>City</th>\n",
              "      <th>Zip Code</th>\n",
              "      <th>County</th>\n",
              "      <th>Latitude Coordinate</th>\n",
              "      <th>Longitude Coordinate</th>\n",
              "      <th>(Latitude.Longitude)</th>\n",
              "      <th>Council District</th>\n",
              "      <th>Created Date</th>\n",
              "      <th>Closed Date</th>\n",
              "    </tr>\n",
              "  </thead>\n",
              "  <tbody>\n",
              "    <tr>\n",
              "      <th>0</th>\n",
              "      <td>19-00090956</td>\n",
              "      <td>Animal - Proper Care</td>\n",
              "      <td>Phone</td>\n",
              "      <td>Closed</td>\n",
              "      <td>4609 RIBBECKE AVE, AUSTIN, TX 78721</td>\n",
              "      <td>4609</td>\n",
              "      <td>RIBBECKE</td>\n",
              "      <td>AUSTIN</td>\n",
              "      <td>78721.0</td>\n",
              "      <td>TRAVIS</td>\n",
              "      <td>30.280581</td>\n",
              "      <td>-97.685318</td>\n",
              "      <td>(30.28058076, -97.68531793)</td>\n",
              "      <td>1.0</td>\n",
              "      <td>2019-03-14 03:02:15</td>\n",
              "      <td>2020-11-23 01:41:21</td>\n",
              "    </tr>\n",
              "    <tr>\n",
              "      <th>1</th>\n",
              "      <td>20-00135805</td>\n",
              "      <td>Tree Issue ROW</td>\n",
              "      <td>Mobile Device</td>\n",
              "      <td>Closed</td>\n",
              "      <td>3521 WEST AVE, AUSTIN, TX 78705</td>\n",
              "      <td>3521</td>\n",
              "      <td>WEST</td>\n",
              "      <td>AUSTIN</td>\n",
              "      <td>78705.0</td>\n",
              "      <td>TRAVIS</td>\n",
              "      <td>30.302857</td>\n",
              "      <td>-97.742312</td>\n",
              "      <td>(30.30285681, -97.74231249)</td>\n",
              "      <td>9.0</td>\n",
              "      <td>2020-04-07 07:06:32</td>\n",
              "      <td>2020-11-23 12:02:05</td>\n",
              "    </tr>\n",
              "    <tr>\n",
              "      <th>2</th>\n",
              "      <td>20-00052942</td>\n",
              "      <td>Pothole Repair</td>\n",
              "      <td>Web</td>\n",
              "      <td>Closed</td>\n",
              "      <td>7900 E BEN WHITE BLVD WB, AUSTIN, TX</td>\n",
              "      <td>7900</td>\n",
              "      <td>BEN WHITE BLVD WB</td>\n",
              "      <td>AUSTIN</td>\n",
              "      <td>78741.0</td>\n",
              "      <td>TRAVIS</td>\n",
              "      <td>30.219838</td>\n",
              "      <td>-97.688440</td>\n",
              "      <td>(30.21983764, -97.68844011)</td>\n",
              "      <td>3.0</td>\n",
              "      <td>2020-02-12 01:55:04</td>\n",
              "      <td>2020-02-12 12:57:35</td>\n",
              "    </tr>\n",
              "    <tr>\n",
              "      <th>3</th>\n",
              "      <td>19-00467964</td>\n",
              "      <td>ARR Dead Animal Collection</td>\n",
              "      <td>Phone</td>\n",
              "      <td>Closed</td>\n",
              "      <td>7100 METROPOLIS DR, AUSTIN, TX 78744</td>\n",
              "      <td>7100</td>\n",
              "      <td>METROPOLIS</td>\n",
              "      <td>AUSTIN</td>\n",
              "      <td>78744.0</td>\n",
              "      <td>TRAVIS</td>\n",
              "      <td>30.206036</td>\n",
              "      <td>-97.702592</td>\n",
              "      <td>(30.20603574, -97.70259216)</td>\n",
              "      <td>2.0</td>\n",
              "      <td>2019-12-10 02:17:04</td>\n",
              "      <td>2019-12-11 09:57:54</td>\n",
              "    </tr>\n",
              "    <tr>\n",
              "      <th>4</th>\n",
              "      <td>19-00468033</td>\n",
              "      <td>Austin Code - Request Code Officer</td>\n",
              "      <td>Phone</td>\n",
              "      <td>Closed</td>\n",
              "      <td>2401 GROVE BLVD, AUSTIN, TX 78741</td>\n",
              "      <td>2401</td>\n",
              "      <td>GROVE</td>\n",
              "      <td>AUSTIN</td>\n",
              "      <td>78741.0</td>\n",
              "      <td>TRAVIS</td>\n",
              "      <td>30.221664</td>\n",
              "      <td>-97.707177</td>\n",
              "      <td>(30.22166434, -97.70717698)</td>\n",
              "      <td>3.0</td>\n",
              "      <td>2019-12-10 02:51:24</td>\n",
              "      <td>2019-12-10 03:00:05</td>\n",
              "    </tr>\n",
              "  </tbody>\n",
              "</table>\n",
              "</div>\n",
              "      <button class=\"colab-df-convert\" onclick=\"convertToInteractive('df-d269cfbf-4d58-45b4-b3a7-e410744fbdf1')\"\n",
              "              title=\"Convert this dataframe to an interactive table.\"\n",
              "              style=\"display:none;\">\n",
              "        \n",
              "  <svg xmlns=\"http://www.w3.org/2000/svg\" height=\"24px\"viewBox=\"0 0 24 24\"\n",
              "       width=\"24px\">\n",
              "    <path d=\"M0 0h24v24H0V0z\" fill=\"none\"/>\n",
              "    <path d=\"M18.56 5.44l.94 2.06.94-2.06 2.06-.94-2.06-.94-.94-2.06-.94 2.06-2.06.94zm-11 1L8.5 8.5l.94-2.06 2.06-.94-2.06-.94L8.5 2.5l-.94 2.06-2.06.94zm10 10l.94 2.06.94-2.06 2.06-.94-2.06-.94-.94-2.06-.94 2.06-2.06.94z\"/><path d=\"M17.41 7.96l-1.37-1.37c-.4-.4-.92-.59-1.43-.59-.52 0-1.04.2-1.43.59L10.3 9.45l-7.72 7.72c-.78.78-.78 2.05 0 2.83L4 21.41c.39.39.9.59 1.41.59.51 0 1.02-.2 1.41-.59l7.78-7.78 2.81-2.81c.8-.78.8-2.07 0-2.86zM5.41 20L4 18.59l7.72-7.72 1.47 1.35L5.41 20z\"/>\n",
              "  </svg>\n",
              "      </button>\n",
              "      \n",
              "  <style>\n",
              "    .colab-df-container {\n",
              "      display:flex;\n",
              "      flex-wrap:wrap;\n",
              "      gap: 12px;\n",
              "    }\n",
              "\n",
              "    .colab-df-convert {\n",
              "      background-color: #E8F0FE;\n",
              "      border: none;\n",
              "      border-radius: 50%;\n",
              "      cursor: pointer;\n",
              "      display: none;\n",
              "      fill: #1967D2;\n",
              "      height: 32px;\n",
              "      padding: 0 0 0 0;\n",
              "      width: 32px;\n",
              "    }\n",
              "\n",
              "    .colab-df-convert:hover {\n",
              "      background-color: #E2EBFA;\n",
              "      box-shadow: 0px 1px 2px rgba(60, 64, 67, 0.3), 0px 1px 3px 1px rgba(60, 64, 67, 0.15);\n",
              "      fill: #174EA6;\n",
              "    }\n",
              "\n",
              "    [theme=dark] .colab-df-convert {\n",
              "      background-color: #3B4455;\n",
              "      fill: #D2E3FC;\n",
              "    }\n",
              "\n",
              "    [theme=dark] .colab-df-convert:hover {\n",
              "      background-color: #434B5C;\n",
              "      box-shadow: 0px 1px 3px 1px rgba(0, 0, 0, 0.15);\n",
              "      filter: drop-shadow(0px 1px 2px rgba(0, 0, 0, 0.3));\n",
              "      fill: #FFFFFF;\n",
              "    }\n",
              "  </style>\n",
              "\n",
              "      <script>\n",
              "        const buttonEl =\n",
              "          document.querySelector('#df-d269cfbf-4d58-45b4-b3a7-e410744fbdf1 button.colab-df-convert');\n",
              "        buttonEl.style.display =\n",
              "          google.colab.kernel.accessAllowed ? 'block' : 'none';\n",
              "\n",
              "        async function convertToInteractive(key) {\n",
              "          const element = document.querySelector('#df-d269cfbf-4d58-45b4-b3a7-e410744fbdf1');\n",
              "          const dataTable =\n",
              "            await google.colab.kernel.invokeFunction('convertToInteractive',\n",
              "                                                     [key], {});\n",
              "          if (!dataTable) return;\n",
              "\n",
              "          const docLinkHtml = 'Like what you see? Visit the ' +\n",
              "            '<a target=\"_blank\" href=https://colab.research.google.com/notebooks/data_table.ipynb>data table notebook</a>'\n",
              "            + ' to learn more about interactive tables.';\n",
              "          element.innerHTML = '';\n",
              "          dataTable['output_type'] = 'display_data';\n",
              "          await google.colab.output.renderOutput(dataTable, element);\n",
              "          const docLink = document.createElement('div');\n",
              "          docLink.innerHTML = docLinkHtml;\n",
              "          element.appendChild(docLink);\n",
              "        }\n",
              "      </script>\n",
              "    </div>\n",
              "  </div>\n",
              "  "
            ],
            "text/plain": [
              "  Service Request (SR) Number                      SR Description  \\\n",
              "0                 19-00090956                Animal - Proper Care   \n",
              "1                 20-00135805                      Tree Issue ROW   \n",
              "2                 20-00052942                      Pothole Repair   \n",
              "3                 19-00467964          ARR Dead Animal Collection   \n",
              "4                 19-00468033  Austin Code - Request Code Officer   \n",
              "\n",
              "  Method Received SR Status                           SR Location  \\\n",
              "0           Phone    Closed   4609 RIBBECKE AVE, AUSTIN, TX 78721   \n",
              "1   Mobile Device    Closed       3521 WEST AVE, AUSTIN, TX 78705   \n",
              "2             Web    Closed  7900 E BEN WHITE BLVD WB, AUSTIN, TX   \n",
              "3           Phone    Closed  7100 METROPOLIS DR, AUSTIN, TX 78744   \n",
              "4           Phone    Closed     2401 GROVE BLVD, AUSTIN, TX 78741   \n",
              "\n",
              "  Street Number        Street Name    City  Zip Code  County  \\\n",
              "0          4609           RIBBECKE  AUSTIN   78721.0  TRAVIS   \n",
              "1          3521               WEST  AUSTIN   78705.0  TRAVIS   \n",
              "2          7900  BEN WHITE BLVD WB  AUSTIN   78741.0  TRAVIS   \n",
              "3          7100         METROPOLIS  AUSTIN   78744.0  TRAVIS   \n",
              "4          2401              GROVE  AUSTIN   78741.0  TRAVIS   \n",
              "\n",
              "   Latitude Coordinate  Longitude Coordinate         (Latitude.Longitude)  \\\n",
              "0            30.280581            -97.685318  (30.28058076, -97.68531793)   \n",
              "1            30.302857            -97.742312  (30.30285681, -97.74231249)   \n",
              "2            30.219838            -97.688440  (30.21983764, -97.68844011)   \n",
              "3            30.206036            -97.702592  (30.20603574, -97.70259216)   \n",
              "4            30.221664            -97.707177  (30.22166434, -97.70717698)   \n",
              "\n",
              "   Council District         Created Date          Closed Date  \n",
              "0               1.0  2019-03-14 03:02:15  2020-11-23 01:41:21  \n",
              "1               9.0  2020-04-07 07:06:32  2020-11-23 12:02:05  \n",
              "2               3.0  2020-02-12 01:55:04  2020-02-12 12:57:35  \n",
              "3               2.0  2019-12-10 02:17:04  2019-12-11 09:57:54  \n",
              "4               3.0  2019-12-10 02:51:24  2019-12-10 03:00:05  "
            ]
          },
          "metadata": {},
          "execution_count": 6
        }
      ]
    },
    {
      "cell_type": "code",
      "source": [
        "df.tail()"
      ],
      "metadata": {
        "colab": {
          "base_uri": "https://localhost:8080/",
          "height": 530
        },
        "id": "DS4fAxS1QtDT",
        "outputId": "44c9e6fb-7559-4686-94af-a1f627f2d114"
      },
      "execution_count": 7,
      "outputs": [
        {
          "output_type": "execute_result",
          "data": {
            "text/html": [
              "\n",
              "  <div id=\"df-49be0727-f702-4155-b26f-7edb5c096e7d\">\n",
              "    <div class=\"colab-df-container\">\n",
              "      <div>\n",
              "<style scoped>\n",
              "    .dataframe tbody tr th:only-of-type {\n",
              "        vertical-align: middle;\n",
              "    }\n",
              "\n",
              "    .dataframe tbody tr th {\n",
              "        vertical-align: top;\n",
              "    }\n",
              "\n",
              "    .dataframe thead th {\n",
              "        text-align: right;\n",
              "    }\n",
              "</style>\n",
              "<table border=\"1\" class=\"dataframe\">\n",
              "  <thead>\n",
              "    <tr style=\"text-align: right;\">\n",
              "      <th></th>\n",
              "      <th>Service Request (SR) Number</th>\n",
              "      <th>SR Description</th>\n",
              "      <th>Method Received</th>\n",
              "      <th>SR Status</th>\n",
              "      <th>SR Location</th>\n",
              "      <th>Street Number</th>\n",
              "      <th>Street Name</th>\n",
              "      <th>City</th>\n",
              "      <th>Zip Code</th>\n",
              "      <th>County</th>\n",
              "      <th>Latitude Coordinate</th>\n",
              "      <th>Longitude Coordinate</th>\n",
              "      <th>(Latitude.Longitude)</th>\n",
              "      <th>Council District</th>\n",
              "      <th>Created Date</th>\n",
              "      <th>Closed Date</th>\n",
              "    </tr>\n",
              "  </thead>\n",
              "  <tbody>\n",
              "    <tr>\n",
              "      <th>912296</th>\n",
              "      <td>21-00061898</td>\n",
              "      <td>Community Connections - Coronavirus</td>\n",
              "      <td>Phone</td>\n",
              "      <td>Closed</td>\n",
              "      <td>NaN</td>\n",
              "      <td>NaN</td>\n",
              "      <td>NaN</td>\n",
              "      <td>NaN</td>\n",
              "      <td>NaN</td>\n",
              "      <td>NaN</td>\n",
              "      <td>NaN</td>\n",
              "      <td>NaN</td>\n",
              "      <td>NaN</td>\n",
              "      <td>NaN</td>\n",
              "      <td>2021-02-11 10:27:26</td>\n",
              "      <td>2021-02-25 04:41:11</td>\n",
              "    </tr>\n",
              "    <tr>\n",
              "      <th>912297</th>\n",
              "      <td>21-00062129</td>\n",
              "      <td>Community Connections - Coronavirus</td>\n",
              "      <td>E-Mail</td>\n",
              "      <td>Closed</td>\n",
              "      <td>NaN</td>\n",
              "      <td>NaN</td>\n",
              "      <td>NaN</td>\n",
              "      <td>NaN</td>\n",
              "      <td>NaN</td>\n",
              "      <td>NaN</td>\n",
              "      <td>NaN</td>\n",
              "      <td>NaN</td>\n",
              "      <td>NaN</td>\n",
              "      <td>NaN</td>\n",
              "      <td>2021-02-11 12:17:19</td>\n",
              "      <td>2021-02-26 10:17:19</td>\n",
              "    </tr>\n",
              "    <tr>\n",
              "      <th>912298</th>\n",
              "      <td>21-00062207</td>\n",
              "      <td>Community Connections - Coronavirus</td>\n",
              "      <td>Phone</td>\n",
              "      <td>Closed</td>\n",
              "      <td>NaN</td>\n",
              "      <td>NaN</td>\n",
              "      <td>NaN</td>\n",
              "      <td>NaN</td>\n",
              "      <td>NaN</td>\n",
              "      <td>NaN</td>\n",
              "      <td>NaN</td>\n",
              "      <td>NaN</td>\n",
              "      <td>NaN</td>\n",
              "      <td>NaN</td>\n",
              "      <td>2021-02-11 12:56:59</td>\n",
              "      <td>2021-02-25 03:25:02</td>\n",
              "    </tr>\n",
              "    <tr>\n",
              "      <th>912299</th>\n",
              "      <td>21-00062502</td>\n",
              "      <td>Tree Issue ROW</td>\n",
              "      <td>Phone</td>\n",
              "      <td>Resolved</td>\n",
              "      <td>6405 CLUBWAY LN, AUSTIN, TX 78745</td>\n",
              "      <td>6405.0</td>\n",
              "      <td>CLUBWAY</td>\n",
              "      <td>AUSTIN</td>\n",
              "      <td>78745.0</td>\n",
              "      <td>TRAVIS</td>\n",
              "      <td>30.204533</td>\n",
              "      <td>-97.797817</td>\n",
              "      <td>(30.204533, -97.79781699)</td>\n",
              "      <td>2.0</td>\n",
              "      <td>2021-02-11 03:11:08</td>\n",
              "      <td>2021-02-12 11:42:07</td>\n",
              "    </tr>\n",
              "    <tr>\n",
              "      <th>912300</th>\n",
              "      <td>21-00062653</td>\n",
              "      <td>Community Connections - Coronavirus</td>\n",
              "      <td>Phone</td>\n",
              "      <td>Closed</td>\n",
              "      <td>NaN</td>\n",
              "      <td>NaN</td>\n",
              "      <td>NaN</td>\n",
              "      <td>NaN</td>\n",
              "      <td>NaN</td>\n",
              "      <td>NaN</td>\n",
              "      <td>NaN</td>\n",
              "      <td>NaN</td>\n",
              "      <td>NaN</td>\n",
              "      <td>NaN</td>\n",
              "      <td>2021-02-11 04:18:40</td>\n",
              "      <td>2021-02-25 04:32:26</td>\n",
              "    </tr>\n",
              "  </tbody>\n",
              "</table>\n",
              "</div>\n",
              "      <button class=\"colab-df-convert\" onclick=\"convertToInteractive('df-49be0727-f702-4155-b26f-7edb5c096e7d')\"\n",
              "              title=\"Convert this dataframe to an interactive table.\"\n",
              "              style=\"display:none;\">\n",
              "        \n",
              "  <svg xmlns=\"http://www.w3.org/2000/svg\" height=\"24px\"viewBox=\"0 0 24 24\"\n",
              "       width=\"24px\">\n",
              "    <path d=\"M0 0h24v24H0V0z\" fill=\"none\"/>\n",
              "    <path d=\"M18.56 5.44l.94 2.06.94-2.06 2.06-.94-2.06-.94-.94-2.06-.94 2.06-2.06.94zm-11 1L8.5 8.5l.94-2.06 2.06-.94-2.06-.94L8.5 2.5l-.94 2.06-2.06.94zm10 10l.94 2.06.94-2.06 2.06-.94-2.06-.94-.94-2.06-.94 2.06-2.06.94z\"/><path d=\"M17.41 7.96l-1.37-1.37c-.4-.4-.92-.59-1.43-.59-.52 0-1.04.2-1.43.59L10.3 9.45l-7.72 7.72c-.78.78-.78 2.05 0 2.83L4 21.41c.39.39.9.59 1.41.59.51 0 1.02-.2 1.41-.59l7.78-7.78 2.81-2.81c.8-.78.8-2.07 0-2.86zM5.41 20L4 18.59l7.72-7.72 1.47 1.35L5.41 20z\"/>\n",
              "  </svg>\n",
              "      </button>\n",
              "      \n",
              "  <style>\n",
              "    .colab-df-container {\n",
              "      display:flex;\n",
              "      flex-wrap:wrap;\n",
              "      gap: 12px;\n",
              "    }\n",
              "\n",
              "    .colab-df-convert {\n",
              "      background-color: #E8F0FE;\n",
              "      border: none;\n",
              "      border-radius: 50%;\n",
              "      cursor: pointer;\n",
              "      display: none;\n",
              "      fill: #1967D2;\n",
              "      height: 32px;\n",
              "      padding: 0 0 0 0;\n",
              "      width: 32px;\n",
              "    }\n",
              "\n",
              "    .colab-df-convert:hover {\n",
              "      background-color: #E2EBFA;\n",
              "      box-shadow: 0px 1px 2px rgba(60, 64, 67, 0.3), 0px 1px 3px 1px rgba(60, 64, 67, 0.15);\n",
              "      fill: #174EA6;\n",
              "    }\n",
              "\n",
              "    [theme=dark] .colab-df-convert {\n",
              "      background-color: #3B4455;\n",
              "      fill: #D2E3FC;\n",
              "    }\n",
              "\n",
              "    [theme=dark] .colab-df-convert:hover {\n",
              "      background-color: #434B5C;\n",
              "      box-shadow: 0px 1px 3px 1px rgba(0, 0, 0, 0.15);\n",
              "      filter: drop-shadow(0px 1px 2px rgba(0, 0, 0, 0.3));\n",
              "      fill: #FFFFFF;\n",
              "    }\n",
              "  </style>\n",
              "\n",
              "      <script>\n",
              "        const buttonEl =\n",
              "          document.querySelector('#df-49be0727-f702-4155-b26f-7edb5c096e7d button.colab-df-convert');\n",
              "        buttonEl.style.display =\n",
              "          google.colab.kernel.accessAllowed ? 'block' : 'none';\n",
              "\n",
              "        async function convertToInteractive(key) {\n",
              "          const element = document.querySelector('#df-49be0727-f702-4155-b26f-7edb5c096e7d');\n",
              "          const dataTable =\n",
              "            await google.colab.kernel.invokeFunction('convertToInteractive',\n",
              "                                                     [key], {});\n",
              "          if (!dataTable) return;\n",
              "\n",
              "          const docLinkHtml = 'Like what you see? Visit the ' +\n",
              "            '<a target=\"_blank\" href=https://colab.research.google.com/notebooks/data_table.ipynb>data table notebook</a>'\n",
              "            + ' to learn more about interactive tables.';\n",
              "          element.innerHTML = '';\n",
              "          dataTable['output_type'] = 'display_data';\n",
              "          await google.colab.output.renderOutput(dataTable, element);\n",
              "          const docLink = document.createElement('div');\n",
              "          docLink.innerHTML = docLinkHtml;\n",
              "          element.appendChild(docLink);\n",
              "        }\n",
              "      </script>\n",
              "    </div>\n",
              "  </div>\n",
              "  "
            ],
            "text/plain": [
              "       Service Request (SR) Number                       SR Description  \\\n",
              "912296                 21-00061898  Community Connections - Coronavirus   \n",
              "912297                 21-00062129  Community Connections - Coronavirus   \n",
              "912298                 21-00062207  Community Connections - Coronavirus   \n",
              "912299                 21-00062502                       Tree Issue ROW   \n",
              "912300                 21-00062653  Community Connections - Coronavirus   \n",
              "\n",
              "       Method Received SR Status                        SR Location  \\\n",
              "912296           Phone    Closed                                NaN   \n",
              "912297          E-Mail    Closed                                NaN   \n",
              "912298           Phone    Closed                                NaN   \n",
              "912299           Phone  Resolved  6405 CLUBWAY LN, AUSTIN, TX 78745   \n",
              "912300           Phone    Closed                                NaN   \n",
              "\n",
              "       Street Number Street Name    City  Zip Code  County  \\\n",
              "912296           NaN         NaN     NaN       NaN     NaN   \n",
              "912297           NaN         NaN     NaN       NaN     NaN   \n",
              "912298           NaN         NaN     NaN       NaN     NaN   \n",
              "912299        6405.0     CLUBWAY  AUSTIN   78745.0  TRAVIS   \n",
              "912300           NaN         NaN     NaN       NaN     NaN   \n",
              "\n",
              "        Latitude Coordinate  Longitude Coordinate       (Latitude.Longitude)  \\\n",
              "912296                  NaN                   NaN                        NaN   \n",
              "912297                  NaN                   NaN                        NaN   \n",
              "912298                  NaN                   NaN                        NaN   \n",
              "912299            30.204533            -97.797817  (30.204533, -97.79781699)   \n",
              "912300                  NaN                   NaN                        NaN   \n",
              "\n",
              "        Council District         Created Date          Closed Date  \n",
              "912296               NaN  2021-02-11 10:27:26  2021-02-25 04:41:11  \n",
              "912297               NaN  2021-02-11 12:17:19  2021-02-26 10:17:19  \n",
              "912298               NaN  2021-02-11 12:56:59  2021-02-25 03:25:02  \n",
              "912299               2.0  2021-02-11 03:11:08  2021-02-12 11:42:07  \n",
              "912300               NaN  2021-02-11 04:18:40  2021-02-25 04:32:26  "
            ]
          },
          "metadata": {},
          "execution_count": 7
        }
      ]
    },
    {
      "cell_type": "code",
      "source": [
        "df.describe(include = 'all') # This will be analyzed further soon\n",
        "\n",
        "# Some latitude and longitude coordinates are faulty, the one that appeared in top is situated in the Pacific Ocean."
      ],
      "metadata": {
        "colab": {
          "base_uri": "https://localhost:8080/",
          "height": 562
        },
        "id": "kR4-Dc0EYXw9",
        "outputId": "1157a3f2-073f-4fa1-d7ca-5c1f34f63aeb"
      },
      "execution_count": 8,
      "outputs": [
        {
          "output_type": "execute_result",
          "data": {
            "text/html": [
              "\n",
              "  <div id=\"df-9c26913f-d623-4eca-9a2e-3e59fcffe163\">\n",
              "    <div class=\"colab-df-container\">\n",
              "      <div>\n",
              "<style scoped>\n",
              "    .dataframe tbody tr th:only-of-type {\n",
              "        vertical-align: middle;\n",
              "    }\n",
              "\n",
              "    .dataframe tbody tr th {\n",
              "        vertical-align: top;\n",
              "    }\n",
              "\n",
              "    .dataframe thead th {\n",
              "        text-align: right;\n",
              "    }\n",
              "</style>\n",
              "<table border=\"1\" class=\"dataframe\">\n",
              "  <thead>\n",
              "    <tr style=\"text-align: right;\">\n",
              "      <th></th>\n",
              "      <th>Service Request (SR) Number</th>\n",
              "      <th>SR Description</th>\n",
              "      <th>Method Received</th>\n",
              "      <th>SR Status</th>\n",
              "      <th>SR Location</th>\n",
              "      <th>Street Number</th>\n",
              "      <th>Street Name</th>\n",
              "      <th>City</th>\n",
              "      <th>Zip Code</th>\n",
              "      <th>County</th>\n",
              "      <th>Latitude Coordinate</th>\n",
              "      <th>Longitude Coordinate</th>\n",
              "      <th>(Latitude.Longitude)</th>\n",
              "      <th>Council District</th>\n",
              "      <th>Created Date</th>\n",
              "      <th>Closed Date</th>\n",
              "    </tr>\n",
              "  </thead>\n",
              "  <tbody>\n",
              "    <tr>\n",
              "      <th>count</th>\n",
              "      <td>912301</td>\n",
              "      <td>912301</td>\n",
              "      <td>912301</td>\n",
              "      <td>912301</td>\n",
              "      <td>903257</td>\n",
              "      <td>733981.0</td>\n",
              "      <td>903242</td>\n",
              "      <td>900191</td>\n",
              "      <td>899447.000000</td>\n",
              "      <td>894575</td>\n",
              "      <td>903257.000000</td>\n",
              "      <td>903257.000000</td>\n",
              "      <td>903257</td>\n",
              "      <td>858106.000000</td>\n",
              "      <td>912301</td>\n",
              "      <td>910341</td>\n",
              "    </tr>\n",
              "    <tr>\n",
              "      <th>unique</th>\n",
              "      <td>912301</td>\n",
              "      <td>143</td>\n",
              "      <td>18</td>\n",
              "      <td>13</td>\n",
              "      <td>323739</td>\n",
              "      <td>21000.0</td>\n",
              "      <td>38077</td>\n",
              "      <td>134</td>\n",
              "      <td>NaN</td>\n",
              "      <td>6</td>\n",
              "      <td>NaN</td>\n",
              "      <td>NaN</td>\n",
              "      <td>315647</td>\n",
              "      <td>NaN</td>\n",
              "      <td>904126</td>\n",
              "      <td>848206</td>\n",
              "    </tr>\n",
              "    <tr>\n",
              "      <th>top</th>\n",
              "      <td>19-00090956</td>\n",
              "      <td>Austin Code - Request Code Officer</td>\n",
              "      <td>Phone</td>\n",
              "      <td>Closed</td>\n",
              "      <td>1520 RUTHERFORD LN, AUSTIN, TX 78754</td>\n",
              "      <td>1520.0</td>\n",
              "      <td>LAMAR</td>\n",
              "      <td>AUSTIN</td>\n",
              "      <td>NaN</td>\n",
              "      <td>TRAVIS</td>\n",
              "      <td>NaN</td>\n",
              "      <td>NaN</td>\n",
              "      <td>(3.442386682, -105.9831947)</td>\n",
              "      <td>NaN</td>\n",
              "      <td>2015-02-18 12:00:00</td>\n",
              "      <td>2016-04-18 04:33:33</td>\n",
              "    </tr>\n",
              "    <tr>\n",
              "      <th>freq</th>\n",
              "      <td>1</td>\n",
              "      <td>157961</td>\n",
              "      <td>730687</td>\n",
              "      <td>858294</td>\n",
              "      <td>3097</td>\n",
              "      <td>2872.0</td>\n",
              "      <td>11968</td>\n",
              "      <td>862460</td>\n",
              "      <td>NaN</td>\n",
              "      <td>867774</td>\n",
              "      <td>NaN</td>\n",
              "      <td>NaN</td>\n",
              "      <td>2150</td>\n",
              "      <td>NaN</td>\n",
              "      <td>31</td>\n",
              "      <td>314</td>\n",
              "    </tr>\n",
              "    <tr>\n",
              "      <th>mean</th>\n",
              "      <td>NaN</td>\n",
              "      <td>NaN</td>\n",
              "      <td>NaN</td>\n",
              "      <td>NaN</td>\n",
              "      <td>NaN</td>\n",
              "      <td>NaN</td>\n",
              "      <td>NaN</td>\n",
              "      <td>NaN</td>\n",
              "      <td>78729.543079</td>\n",
              "      <td>NaN</td>\n",
              "      <td>30.226383</td>\n",
              "      <td>-97.763444</td>\n",
              "      <td>NaN</td>\n",
              "      <td>5.506708</td>\n",
              "      <td>NaN</td>\n",
              "      <td>NaN</td>\n",
              "    </tr>\n",
              "    <tr>\n",
              "      <th>std</th>\n",
              "      <td>NaN</td>\n",
              "      <td>NaN</td>\n",
              "      <td>NaN</td>\n",
              "      <td>NaN</td>\n",
              "      <td>NaN</td>\n",
              "      <td>NaN</td>\n",
              "      <td>NaN</td>\n",
              "      <td>NaN</td>\n",
              "      <td>26.508744</td>\n",
              "      <td>NaN</td>\n",
              "      <td>1.310668</td>\n",
              "      <td>0.406121</td>\n",
              "      <td>NaN</td>\n",
              "      <td>3.025361</td>\n",
              "      <td>NaN</td>\n",
              "      <td>NaN</td>\n",
              "    </tr>\n",
              "    <tr>\n",
              "      <th>min</th>\n",
              "      <td>NaN</td>\n",
              "      <td>NaN</td>\n",
              "      <td>NaN</td>\n",
              "      <td>NaN</td>\n",
              "      <td>NaN</td>\n",
              "      <td>NaN</td>\n",
              "      <td>NaN</td>\n",
              "      <td>NaN</td>\n",
              "      <td>78610.000000</td>\n",
              "      <td>NaN</td>\n",
              "      <td>3.442387</td>\n",
              "      <td>-105.983195</td>\n",
              "      <td>NaN</td>\n",
              "      <td>1.000000</td>\n",
              "      <td>NaN</td>\n",
              "      <td>NaN</td>\n",
              "    </tr>\n",
              "    <tr>\n",
              "      <th>25%</th>\n",
              "      <td>NaN</td>\n",
              "      <td>NaN</td>\n",
              "      <td>NaN</td>\n",
              "      <td>NaN</td>\n",
              "      <td>NaN</td>\n",
              "      <td>NaN</td>\n",
              "      <td>NaN</td>\n",
              "      <td>NaN</td>\n",
              "      <td>78705.000000</td>\n",
              "      <td>NaN</td>\n",
              "      <td>30.232492</td>\n",
              "      <td>-97.773683</td>\n",
              "      <td>NaN</td>\n",
              "      <td>3.000000</td>\n",
              "      <td>NaN</td>\n",
              "      <td>NaN</td>\n",
              "    </tr>\n",
              "    <tr>\n",
              "      <th>50%</th>\n",
              "      <td>NaN</td>\n",
              "      <td>NaN</td>\n",
              "      <td>NaN</td>\n",
              "      <td>NaN</td>\n",
              "      <td>NaN</td>\n",
              "      <td>NaN</td>\n",
              "      <td>NaN</td>\n",
              "      <td>NaN</td>\n",
              "      <td>78739.000000</td>\n",
              "      <td>NaN</td>\n",
              "      <td>30.279274</td>\n",
              "      <td>-97.741555</td>\n",
              "      <td>NaN</td>\n",
              "      <td>5.000000</td>\n",
              "      <td>NaN</td>\n",
              "      <td>NaN</td>\n",
              "    </tr>\n",
              "    <tr>\n",
              "      <th>75%</th>\n",
              "      <td>NaN</td>\n",
              "      <td>NaN</td>\n",
              "      <td>NaN</td>\n",
              "      <td>NaN</td>\n",
              "      <td>NaN</td>\n",
              "      <td>NaN</td>\n",
              "      <td>NaN</td>\n",
              "      <td>NaN</td>\n",
              "      <td>78749.000000</td>\n",
              "      <td>NaN</td>\n",
              "      <td>30.345623</td>\n",
              "      <td>-97.705675</td>\n",
              "      <td>NaN</td>\n",
              "      <td>9.000000</td>\n",
              "      <td>NaN</td>\n",
              "      <td>NaN</td>\n",
              "    </tr>\n",
              "    <tr>\n",
              "      <th>max</th>\n",
              "      <td>NaN</td>\n",
              "      <td>NaN</td>\n",
              "      <td>NaN</td>\n",
              "      <td>NaN</td>\n",
              "      <td>NaN</td>\n",
              "      <td>NaN</td>\n",
              "      <td>NaN</td>\n",
              "      <td>NaN</td>\n",
              "      <td>78759.000000</td>\n",
              "      <td>NaN</td>\n",
              "      <td>30.623016</td>\n",
              "      <td>-97.375982</td>\n",
              "      <td>NaN</td>\n",
              "      <td>10.000000</td>\n",
              "      <td>NaN</td>\n",
              "      <td>NaN</td>\n",
              "    </tr>\n",
              "  </tbody>\n",
              "</table>\n",
              "</div>\n",
              "      <button class=\"colab-df-convert\" onclick=\"convertToInteractive('df-9c26913f-d623-4eca-9a2e-3e59fcffe163')\"\n",
              "              title=\"Convert this dataframe to an interactive table.\"\n",
              "              style=\"display:none;\">\n",
              "        \n",
              "  <svg xmlns=\"http://www.w3.org/2000/svg\" height=\"24px\"viewBox=\"0 0 24 24\"\n",
              "       width=\"24px\">\n",
              "    <path d=\"M0 0h24v24H0V0z\" fill=\"none\"/>\n",
              "    <path d=\"M18.56 5.44l.94 2.06.94-2.06 2.06-.94-2.06-.94-.94-2.06-.94 2.06-2.06.94zm-11 1L8.5 8.5l.94-2.06 2.06-.94-2.06-.94L8.5 2.5l-.94 2.06-2.06.94zm10 10l.94 2.06.94-2.06 2.06-.94-2.06-.94-.94-2.06-.94 2.06-2.06.94z\"/><path d=\"M17.41 7.96l-1.37-1.37c-.4-.4-.92-.59-1.43-.59-.52 0-1.04.2-1.43.59L10.3 9.45l-7.72 7.72c-.78.78-.78 2.05 0 2.83L4 21.41c.39.39.9.59 1.41.59.51 0 1.02-.2 1.41-.59l7.78-7.78 2.81-2.81c.8-.78.8-2.07 0-2.86zM5.41 20L4 18.59l7.72-7.72 1.47 1.35L5.41 20z\"/>\n",
              "  </svg>\n",
              "      </button>\n",
              "      \n",
              "  <style>\n",
              "    .colab-df-container {\n",
              "      display:flex;\n",
              "      flex-wrap:wrap;\n",
              "      gap: 12px;\n",
              "    }\n",
              "\n",
              "    .colab-df-convert {\n",
              "      background-color: #E8F0FE;\n",
              "      border: none;\n",
              "      border-radius: 50%;\n",
              "      cursor: pointer;\n",
              "      display: none;\n",
              "      fill: #1967D2;\n",
              "      height: 32px;\n",
              "      padding: 0 0 0 0;\n",
              "      width: 32px;\n",
              "    }\n",
              "\n",
              "    .colab-df-convert:hover {\n",
              "      background-color: #E2EBFA;\n",
              "      box-shadow: 0px 1px 2px rgba(60, 64, 67, 0.3), 0px 1px 3px 1px rgba(60, 64, 67, 0.15);\n",
              "      fill: #174EA6;\n",
              "    }\n",
              "\n",
              "    [theme=dark] .colab-df-convert {\n",
              "      background-color: #3B4455;\n",
              "      fill: #D2E3FC;\n",
              "    }\n",
              "\n",
              "    [theme=dark] .colab-df-convert:hover {\n",
              "      background-color: #434B5C;\n",
              "      box-shadow: 0px 1px 3px 1px rgba(0, 0, 0, 0.15);\n",
              "      filter: drop-shadow(0px 1px 2px rgba(0, 0, 0, 0.3));\n",
              "      fill: #FFFFFF;\n",
              "    }\n",
              "  </style>\n",
              "\n",
              "      <script>\n",
              "        const buttonEl =\n",
              "          document.querySelector('#df-9c26913f-d623-4eca-9a2e-3e59fcffe163 button.colab-df-convert');\n",
              "        buttonEl.style.display =\n",
              "          google.colab.kernel.accessAllowed ? 'block' : 'none';\n",
              "\n",
              "        async function convertToInteractive(key) {\n",
              "          const element = document.querySelector('#df-9c26913f-d623-4eca-9a2e-3e59fcffe163');\n",
              "          const dataTable =\n",
              "            await google.colab.kernel.invokeFunction('convertToInteractive',\n",
              "                                                     [key], {});\n",
              "          if (!dataTable) return;\n",
              "\n",
              "          const docLinkHtml = 'Like what you see? Visit the ' +\n",
              "            '<a target=\"_blank\" href=https://colab.research.google.com/notebooks/data_table.ipynb>data table notebook</a>'\n",
              "            + ' to learn more about interactive tables.';\n",
              "          element.innerHTML = '';\n",
              "          dataTable['output_type'] = 'display_data';\n",
              "          await google.colab.output.renderOutput(dataTable, element);\n",
              "          const docLink = document.createElement('div');\n",
              "          docLink.innerHTML = docLinkHtml;\n",
              "          element.appendChild(docLink);\n",
              "        }\n",
              "      </script>\n",
              "    </div>\n",
              "  </div>\n",
              "  "
            ],
            "text/plain": [
              "       Service Request (SR) Number                      SR Description  \\\n",
              "count                       912301                              912301   \n",
              "unique                      912301                                 143   \n",
              "top                    19-00090956  Austin Code - Request Code Officer   \n",
              "freq                             1                              157961   \n",
              "mean                           NaN                                 NaN   \n",
              "std                            NaN                                 NaN   \n",
              "min                            NaN                                 NaN   \n",
              "25%                            NaN                                 NaN   \n",
              "50%                            NaN                                 NaN   \n",
              "75%                            NaN                                 NaN   \n",
              "max                            NaN                                 NaN   \n",
              "\n",
              "       Method Received SR Status                           SR Location  \\\n",
              "count           912301    912301                                903257   \n",
              "unique              18        13                                323739   \n",
              "top              Phone    Closed  1520 RUTHERFORD LN, AUSTIN, TX 78754   \n",
              "freq            730687    858294                                  3097   \n",
              "mean               NaN       NaN                                   NaN   \n",
              "std                NaN       NaN                                   NaN   \n",
              "min                NaN       NaN                                   NaN   \n",
              "25%                NaN       NaN                                   NaN   \n",
              "50%                NaN       NaN                                   NaN   \n",
              "75%                NaN       NaN                                   NaN   \n",
              "max                NaN       NaN                                   NaN   \n",
              "\n",
              "        Street Number Street Name    City       Zip Code  County  \\\n",
              "count        733981.0      903242  900191  899447.000000  894575   \n",
              "unique        21000.0       38077     134            NaN       6   \n",
              "top            1520.0       LAMAR  AUSTIN            NaN  TRAVIS   \n",
              "freq           2872.0       11968  862460            NaN  867774   \n",
              "mean              NaN         NaN     NaN   78729.543079     NaN   \n",
              "std               NaN         NaN     NaN      26.508744     NaN   \n",
              "min               NaN         NaN     NaN   78610.000000     NaN   \n",
              "25%               NaN         NaN     NaN   78705.000000     NaN   \n",
              "50%               NaN         NaN     NaN   78739.000000     NaN   \n",
              "75%               NaN         NaN     NaN   78749.000000     NaN   \n",
              "max               NaN         NaN     NaN   78759.000000     NaN   \n",
              "\n",
              "        Latitude Coordinate  Longitude Coordinate  \\\n",
              "count         903257.000000         903257.000000   \n",
              "unique                  NaN                   NaN   \n",
              "top                     NaN                   NaN   \n",
              "freq                    NaN                   NaN   \n",
              "mean              30.226383            -97.763444   \n",
              "std                1.310668              0.406121   \n",
              "min                3.442387           -105.983195   \n",
              "25%               30.232492            -97.773683   \n",
              "50%               30.279274            -97.741555   \n",
              "75%               30.345623            -97.705675   \n",
              "max               30.623016            -97.375982   \n",
              "\n",
              "               (Latitude.Longitude)  Council District         Created Date  \\\n",
              "count                        903257     858106.000000               912301   \n",
              "unique                       315647               NaN               904126   \n",
              "top     (3.442386682, -105.9831947)               NaN  2015-02-18 12:00:00   \n",
              "freq                           2150               NaN                   31   \n",
              "mean                            NaN          5.506708                  NaN   \n",
              "std                             NaN          3.025361                  NaN   \n",
              "min                             NaN          1.000000                  NaN   \n",
              "25%                             NaN          3.000000                  NaN   \n",
              "50%                             NaN          5.000000                  NaN   \n",
              "75%                             NaN          9.000000                  NaN   \n",
              "max                             NaN         10.000000                  NaN   \n",
              "\n",
              "                Closed Date  \n",
              "count                910341  \n",
              "unique               848206  \n",
              "top     2016-04-18 04:33:33  \n",
              "freq                    314  \n",
              "mean                    NaN  \n",
              "std                     NaN  \n",
              "min                     NaN  \n",
              "25%                     NaN  \n",
              "50%                     NaN  \n",
              "75%                     NaN  \n",
              "max                     NaN  "
            ]
          },
          "metadata": {},
          "execution_count": 8
        }
      ]
    },
    {
      "cell_type": "markdown",
      "source": [
        "https://goo.gl/maps/eQb92sVLbE7MdJUw5\n",
        "Image of average coordinates\n",
        "\n",
        "The coordinates average out to the south central part of urban austin, thus the coordinates are reasonable."
      ],
      "metadata": {
        "id": "2wL6KqpTCgs7"
      }
    },
    {
      "cell_type": "code",
      "source": [
        "df.dtypes # it seems that Zip Code and Council Districts are recorded as floats, which might lead one to think\n",
        "# that they are continuous values, but in reality, at least for the Austin area (no leading zeros), integer values which are discrete\n"
      ],
      "metadata": {
        "colab": {
          "base_uri": "https://localhost:8080/"
        },
        "id": "KUPRTlcCR24U",
        "outputId": "f089ddf7-e22d-4fcb-a3c2-0242427a349f"
      },
      "execution_count": 9,
      "outputs": [
        {
          "output_type": "execute_result",
          "data": {
            "text/plain": [
              "Service Request (SR) Number     object\n",
              "SR Description                  object\n",
              "Method Received                 object\n",
              "SR Status                       object\n",
              "SR Location                     object\n",
              "Street Number                   object\n",
              "Street Name                     object\n",
              "City                            object\n",
              "Zip Code                       float64\n",
              "County                          object\n",
              "Latitude Coordinate            float64\n",
              "Longitude Coordinate           float64\n",
              "(Latitude.Longitude)            object\n",
              "Council District               float64\n",
              "Created Date                    object\n",
              "Closed Date                     object\n",
              "dtype: object"
            ]
          },
          "metadata": {},
          "execution_count": 9
        }
      ]
    },
    {
      "cell_type": "code",
      "source": [
        "# convert Council District and Zip Code to integers for workability.\n",
        "df['Council District'] = df['Council District'].astype('Int64')\n",
        "df['Zip Code'] = df['Zip Code'].astype('Int64')\n",
        "df['Created Date'] = pd.to_datetime(df['Created Date']) # convert to datetime objects\n",
        "df['Closed Date'] = pd.to_datetime(df['Closed Date']) # convert to datetime objects\n"
      ],
      "metadata": {
        "id": "S7recK1fdr04"
      },
      "execution_count": 10,
      "outputs": []
    },
    {
      "cell_type": "code",
      "source": [
        "\n",
        "# Create a copy of the dataFrame for pruning.\n",
        "df2 = df\n",
        "\n",
        "# Approach by dropping street number, as it is not informative on its own.\n",
        "df2.drop(['Service Request (SR) Number','SR Location','Street Number'], axis = 1, inplace = True)\n",
        "\n",
        "# The latitude.longitude column contains objects set up to look like a tuple.\n",
        "# Considering that there already are  longitude and latitude columns separately,\n",
        "# one can can drop latitude.longitude\n",
        "\n",
        "df2.drop(['(Latitude.Longitude)'], axis = 1, inplace = True)\n"
      ],
      "metadata": {
        "id": "WiPC7wILZL_H"
      },
      "execution_count": 11,
      "outputs": []
    },
    {
      "cell_type": "code",
      "source": [
        "df2.nunique() # all service request (SR) Numbers are unique. Those aren't informative.\n",
        "# SR Location is referring to the exact address. The cardinality is too high.\n",
        "\n",
        "\n",
        "\n"
      ],
      "metadata": {
        "colab": {
          "base_uri": "https://localhost:8080/"
        },
        "outputId": "1ec3492d-1eca-4995-8e7c-6da1c861ad9a",
        "id": "edgjTfsXkALU"
      },
      "execution_count": 12,
      "outputs": [
        {
          "output_type": "execute_result",
          "data": {
            "text/plain": [
              "SR Description             143\n",
              "Method Received             18\n",
              "SR Status                   13\n",
              "Street Name              38077\n",
              "City                       134\n",
              "Zip Code                    68\n",
              "County                       6\n",
              "Latitude Coordinate     307430\n",
              "Longitude Coordinate    301250\n",
              "Council District            10\n",
              "Created Date            904126\n",
              "Closed Date             848206\n",
              "dtype: int64"
            ]
          },
          "metadata": {},
          "execution_count": 12
        }
      ]
    },
    {
      "cell_type": "code",
      "source": [
        "df2.isnull().sum() # There exists null entries, one needs to find the best way to handle those."
      ],
      "metadata": {
        "colab": {
          "base_uri": "https://localhost:8080/"
        },
        "id": "ZcTuh44wVU21",
        "outputId": "62d01775-ec7e-4da8-f81a-73d6a6976d04"
      },
      "execution_count": 13,
      "outputs": [
        {
          "output_type": "execute_result",
          "data": {
            "text/plain": [
              "SR Description              0\n",
              "Method Received             0\n",
              "SR Status                   0\n",
              "Street Name              9059\n",
              "City                    12110\n",
              "Zip Code                12854\n",
              "County                  17726\n",
              "Latitude Coordinate      9044\n",
              "Longitude Coordinate     9044\n",
              "Council District        54195\n",
              "Created Date                0\n",
              "Closed Date              1960\n",
              "dtype: int64"
            ]
          },
          "metadata": {},
          "execution_count": 13
        }
      ]
    },
    {
      "cell_type": "code",
      "source": [
        "def drop_percent(df):\n",
        "  dropped_row_count = len(df) - len(df.dropna(axis = 0, how = 'any'))\n",
        "  return dropped_row_count/len(df2) *  100\n",
        " \n",
        "print(drop_percent(df2))\n",
        "\n",
        "# one would be dropping around 6.7% of the data. One can mitigate the loss of information by filling some of the row features with mean values.\n",
        "\n",
        "# However, the issue is that some of these features are categorical, even if they are numerical in nature.\n",
        "\n",
        "# Only the latitude and longitude coordinates are continuous. \n",
        "\n",
        "# Realistically, if multiple attempts to contact 311 were made from one location, one can think of the mean as the weighted average coordinates\n",
        "# of 311 correspondences in the Austin metropolitan area, where the number of rows corresponding mapping to one coordinate is the weight\n",
        "\n",
        "# because there are 307,430 latitude and 301,250 longitude coordinates, on average, one set of coordinates will have 3 correspondences to 311 associated.\n",
        "\n",
        "lat_col = df2['Latitude Coordinate']\n",
        "long_col = df2['Longitude Coordinate'] # we will keep these coordinates possibly for visualization\n",
        "\n",
        "df2['Latitude Coordinate'] = lat_col.fillna(lat_col.mean(skipna=True))\n",
        "df2['Longitude Coordinate'] = long_col.fillna(long_col.mean(skipna=True))\n",
        "\n",
        "# we also need to remove rows where there is no info on location whatsoever.\n",
        "\n",
        "len(df2) - len(df2.dropna(how='all')) # this equals 0, no fully null rows\n",
        "\n",
        "# One can replace null categorical values with the mode of the categ                                                                                                                                                                        ories\n",
        "# however, this reduces the granularity and specificity of the 311 calls.\n",
        "# It may be best to simply remove 6.7% of the rows for workability.\n",
        "# The original dataframe preserves all rows if another approach works better.\n",
        "\n",
        "# However, removing rows with null entries can artificially reduce the cardinality of the data. Further looking at the data can be beneficial.\n",
        "\n",
        "\n",
        "# The 1960 null closed dates don't necessarily mean that the case is still open.\n",
        "# The model is much more workable and simplified if these are removed. These will barely affect\n",
        "# the amount of data dropped\n",
        "df2.dropna(subset=['Closed Date'], inplace= True)\n",
        "\n",
        "# The street Name will not be used for classification. The reason is that\n",
        "# the cardinality is too high. Some streets may have a higher population density,\n",
        "#  length, and pass through different areas of town. However, looking at street\n",
        "# names which map the highest count of 311 correspondences can be interesting.\n",
        "\n",
        "\n",
        "\n",
        "# More analysis can be done to find what to do with the null entries.\n"
      ],
      "metadata": {
        "colab": {
          "base_uri": "https://localhost:8080/"
        },
        "id": "suZiMH4oba-f",
        "outputId": "08139b92-0afe-4df1-ccfb-faf09dea5953"
      },
      "execution_count": 14,
      "outputs": [
        {
          "output_type": "stream",
          "name": "stdout",
          "text": [
            "6.728371447581445\n"
          ]
        }
      ]
    },
    {
      "cell_type": "markdown",
      "source": [
        "***Continued analysis of unique categories***"
      ],
      "metadata": {
        "id": "AS25IyuSaA5y"
      }
    },
    {
      "cell_type": "code",
      "source": [
        "\n",
        "for col in df2.columns:\n",
        "    print(col,\" : \", df2[col].unique())\n",
        "    print('\\n')"
      ],
      "metadata": {
        "colab": {
          "base_uri": "https://localhost:8080/"
        },
        "id": "5_reGQdMmgoZ",
        "outputId": "4fa7d9eb-7b08-4857-f526-e0e8d7ae34f9"
      },
      "execution_count": 15,
      "outputs": [
        {
          "output_type": "stream",
          "name": "stdout",
          "text": [
            "SR Description  :  ['Animal - Proper Care' 'Tree Issue ROW' 'Pothole Repair'\n",
            " 'ARR Dead Animal Collection' 'Austin Code - Request Code Officer'\n",
            " 'Austin Code - Signs/Billboards' 'Animal Bite'\n",
            " 'Animal Control - Assistance Request' 'Sign - Traffic Sign Emergency'\n",
            " 'Loose Dog' 'Sidewalk Repair' 'Found Animal - Pick Up'\n",
            " 'Traffic Signal - Maintenance' 'Obstruction in ROW'\n",
            " 'Traffic Signal - Dig Tess Request' 'Lane/Road Closure Notification'\n",
            " 'Debris in Street' 'Bicycle Issues'\n",
            " 'Austin Code - Short Term Rental Complaint SR'\n",
            " 'Flooding  Current (Non-Emergency)' 'Creek & Pond Vegetation Control'\n",
            " 'Channels/Creeks/Drainage Easement' 'Flooding - Past' 'Traffic Calming'\n",
            " 'Construction/Permitting- ROW' 'Traffic Signal - New/Change'\n",
            " 'ARR Missed Recycling' 'Park Maintenance - Grounds' 'Concerns in the ROW'\n",
            " 'Street Light Issue- Address' 'Loose Animal Not Dog'\n",
            " 'Storm Drain Pipe Services' 'Shared Micromobility'\n",
            " 'ARR Missed Yard Trimmings/Compost' 'Injured / Sick Animal' 'Sign - New'\n",
            " 'Street Lights New' 'Sign - Traffic Sign Maintenance'\n",
            " 'Loud Commercial Music' 'Road Markings/Striping - Maintenance'\n",
            " 'Parking Violation Enforcement'\n",
            " 'Park Maintenance - Grounds Plumbing Issues' 'Found Animal Report - Keep'\n",
            " 'Construction Items in ROW' 'Parking Machine Issue' 'Wildlife Exposure'\n",
            " 'Pavement Failure' 'Public Health - Graffiti Abatement'\n",
            " 'Animal In Vehicle' 'Speed Management' 'Speed Limit - Changes/Signs'\n",
            " 'Sidewalk/Curb Ramp/Route - NEW' 'AW - Water Waste Report'\n",
            " 'Alley & Unpaved Street Maintenance' 'View Obstruction at Intersection'\n",
            " 'Roadway Spillage' 'Austin Code - Coronavirus' 'Standing Water'\n",
            " 'Curb/Gutter Repair' 'ARR Brush and Bulk' 'ARR Street Sweeping'\n",
            " 'Mowing Medians' 'Dangerous/Vicious Dog Investigation'\n",
            " 'Public Health - Environmental Services - County'\n",
            " 'Sign - School Zone Sign Maintenance' 'Sign - Street Name'\n",
            " 'Traffic Engineering - General' 'Sign - Parking Sign Maintenance'\n",
            " 'Bridge Repair' 'Guardrail New/Repair'\n",
            " 'Public Health - Environmental Services - City'\n",
            " 'Lost Item in Storm Drainage System' 'Road Markings/Striping - New'\n",
            " 'Coyote Complaints' 'Community Connections - Coronavirus'\n",
            " 'Neighborhood Home Programs' 'Town Lake Debris Issues'\n",
            " 'Water Waste Report' 'Park Maintenance - Cemeteries' 'Mowing City Parks'\n",
            " 'Park Maintenance - Grounds Electrical Issues'\n",
            " 'Street Light Issue- Multiple poles/multiple streets'\n",
            " 'Park Maintenance - Pool Issues'\n",
            " 'Park Maintenance - Building Plumbing Issues'\n",
            " 'Animal Trapped in Storm Drain' 'ATD - Booting Complaint'\n",
            " 'School Zone Flasher - Timing/Maintenance' 'Filming Permit - ROW'\n",
            " 'Park Maintenance - Building Electrical Issues'\n",
            " 'Residential Parking Permit Enforcement' 'Street Resurfacing'\n",
            " 'School Zone - New/Review/Changes'\n",
            " 'Austin Code - Short Term Rental (STR) Appointment'\n",
            " 'EV PIE Station Issues' 'Ditch/Driveway Pipe Services'\n",
            " 'Park Maintenance - Building Issues'\n",
            " 'Austin Code - Construction Rest Break Complaint'\n",
            " 'Tree Issue ROW/Emergency (PW)' 'Animal Roadside Sales'\n",
            " 'Valet Permit - ROW' 'Vendor Permit - ROW'\n",
            " 'Tree Issue ROW/Maintenance (PW)' 'AFD - Wildfire Concern / Presentation'\n",
            " 'Parking Permit- ROW' 'AW - Water Theft Report'\n",
            " 'School Issues - Crossing Guards' 'Emergency Vehicle Preemption Device'\n",
            " 'Park Maintenance - Building A/C & Heating Issues' 'Fence/Wall Repair'\n",
            " 'Newspaper Rack- ROW' 'Aquatics Hotline Inquiry'\n",
            " 'Construction items in ROW' 'ARR Missed Yard Trimmings /Organics'\n",
            " 'EV PIP Residential Rebate' 'Drainage - Miscellaneous'\n",
            " 'Ordinance Universal Recycling' 'ZZ Community Connections - Coronavirus'\n",
            " 'HSEM Heat Advisory' 'Graffiti Abatement' 'Dockless Mobility'\n",
            " 'Austin Code - Construction Ordinance SR' 'Street Resurfacing Inquiry'\n",
            " 'Construction Items- ROW' 'Short Term Rental Complaint SR'\n",
            " 'Ordinance Single-Use Carryout Bags' 'Water Theft Report'\n",
            " 'Guardrail Repair' 'Parking Ticket Complaint' 'Barricade Request'\n",
            " 'LeadSmart Program' 'Heat Advisory' 'ARR Dumpster' 'Guardrail - New'\n",
            " 'Road Sanding Request' 'Austin Code - Woodridge Apt'\n",
            " 'Emergency Road Closure Report'\n",
            " 'Traffic Engineering - Jurisdiction Issue' 'Utility Coordination - ROW'\n",
            " 'Fence Repair - MOPAC' 'Obstruction - Urban Forestry'\n",
            " 'zz - Coyote Compliants' 'zCoyote Complaints' 'Loud Music']\n",
            "\n",
            "\n",
            "Method Received  :  ['Phone' 'Mobile Device' 'Web' 'CSR - Follow On SR' 'Spot311 Interface'\n",
            " 'Other' 'E-Mail' 'Mobile Created' 'Field Request' 'Open311'\n",
            " 'External Interface' 'Radio' 'Mass Entry' 'Fax' 'Mail' 'Walk In'\n",
            " 'Social Media' 'Interface']\n",
            "\n",
            "\n",
            "SR Status  :  ['Closed' 'Duplicate (closed)' 'Resolved' 'Open' 'Duplicate (open)'\n",
            " 'Closed -Incomplete' 'Work In Progress' 'TO BE DELETED' 'Incomplete'\n",
            " 'Closed -Incomplete Information' 'New']\n",
            "\n",
            "\n",
            "Street Name  :  ['RIBBECKE' 'WEST' 'BEN WHITE BLVD WB' ... 'CILANTRO WAY & CAYENNE LN'\n",
            " 'S SH 45 E EB & S IH 35 NB TO S 45 E EB RAMP'\n",
            " 'RUFFED GROUSE DR & MORNING QUAIL DR']\n",
            "\n",
            "\n",
            "City  :  ['AUSTIN' 'Austin' 'ELGIN' 'austin' 'PFLUGERVILLE' nan 'LAKEWAY'\n",
            " 'LAGO VISTA' 'CEDAR PARK' 'MANOR' 'BEE CAVE' 'ROUND ROCK' 'WEBBERVILLE'\n",
            " 'VOLENTE' 'POINT VENTURE' 'ROLLINGWOOD' 'aUSTIN' 'CREEDMOOR'\n",
            " 'SUNSET VALLEY' 'WEST LAKE HILL' 'SAN LEANNA' 'JONESTOWN'\n",
            " 'DRIPPING SPRIN' 'MUSTANG RIDGE' 'Spicewood' 'DEL VALLE' 'THE HILLS'\n",
            " 'LEANDER' 'AUstin' 'AUSTIN 5 ETJ' 'HUTTO' 'BUDA' 'BRIARCLIFF'\n",
            " 'GEORGETOWN' 'HOUSTON' 'Pflugerville' 'WEST LAKE HILLS' 'GARFIELD'\n",
            " 'MANCHACA' 'KYLE' 'Round Rock' 'BASTROP' 'Manor' 'Del Valle' 'Cedar Park'\n",
            " 'PLANO' 'OTHER' 'SPICEWOOD' 'HAYS' 'LOCKHART' 'FORT WORTH' 'Austi'\n",
            " 'TRAVIS COUNTY' 'Elgin' 'aust' 'del valle' 'a' 'austi' 'Manchaca'\n",
            " 'cedar park' 'DRIPPING SPRINGS' 'lago vista' 'manchaca' 'CEDAR CREEK'\n",
            " 'AuStin' 'TRAVIS' 'leander' 'COUPLAND' 'Austin.' 'MARBLE FALLS' 'Ausitn'\n",
            " 'Aus' 'Round rock' 'pflugerville' 'AustiN' 'Sealy' 'BEAR CREEK' 'AustIn'\n",
            " 'Buda' 'manor' 'DALLAS' 'briarcliff' 'round rock' 'austin `' 'aus'\n",
            " 'Del valle' 'dripping springs' 'ausitn' 'austibn' 'bee cave' 'Jonestown'\n",
            " 'austn' 'PFlugerville' 'Austn' 'buda' 'Aust' 'Cedar park' 'MORROW'\n",
            " 'Lakeway' 'lakeway' 'ATX' 'Austinm' 'Austtin' 'fort worth' 'DALE' 'AUsti'\n",
            " 'Au' 'Aua' 'AUST' 'cedar creek' 'WORCESTER' 'Cedar Creek' 'Bee Caves'\n",
            " 'spicewood' 'Ausin' 'VILLAGE OF POINT VENTURE' 'VILLAGE OF MUSTANG RIDGE'\n",
            " 'VILLAGE OF THE HILLS' 'VILLAGE OF CREEDMOOR' 'Coupland'\n",
            " 'Dripping Springs' 'Marble Falls' 'VILLAGE OF BRIARCLIFF' 'Austib'\n",
            " 'Oak HIll' 'Leander' 'AUSTUN' 'Austin, TX' 'VILLAGE OF WEBBERVILLE'\n",
            " 'Paige' 'VILLAGE OF SAN LEANNA' 'VILLAGE OF VOLENTE' 'Hutto' 'Dale'\n",
            " 'elgin']\n",
            "\n",
            "\n",
            "Zip Code  :  <IntegerArray>\n",
            "[78721, 78705, 78741, 78744, 78723, 78712, 78745, 78758, 78752, 78617, 78749,\n",
            " 78750, 78735, 78748, 78753, 78722, 78757, 78746, 78754, 78704, 78724, 78702,\n",
            " 78703, 78701, 78732, 78759, 78731, 78739, 78742, 78751, 78756, 78660, 78725,\n",
            " 78728, 78736, 78734, 78621, 78613, 78717, 78727, 78729, 78747, 78652, 78719,\n",
            " 78730,  <NA>, 78726, 78669, 78645, 78610, 78653, 78738, 78737, 78664, 78641,\n",
            " 78733, 78615, 78620, 78612, 78681, 78634, 78654, 78665, 78642, 78640, 78626,\n",
            " 78663, 78616, 78619]\n",
            "Length: 69, dtype: Int64\n",
            "\n",
            "\n",
            "County  :  ['TRAVIS' 'WILLIAMSON' nan 'BASTROP' 'HAYS' 'CALDWELL' 'BURNET']\n",
            "\n",
            "\n",
            "Latitude Coordinate  :  [30.28058076 30.30285681 30.21983764 ... 30.37491511 30.06256704\n",
            " 30.41630388]\n",
            "\n",
            "\n",
            "Longitude Coordinate  :  [-97.68531793 -97.74231249 -97.68844011 ... -97.69637961 -97.73626905\n",
            " -97.71763246]\n",
            "\n",
            "\n",
            "Council District  :  <IntegerArray>\n",
            "[1, 9, 3, 2, 5, 7, 4, 8, 6, 10, <NA>]\n",
            "Length: 11, dtype: Int64\n",
            "\n",
            "\n",
            "Created Date  :  ['2019-03-14T03:02:15.000000000' '2020-04-07T07:06:32.000000000'\n",
            " '2020-02-12T01:55:04.000000000' ... '2021-02-11T12:56:59.000000000'\n",
            " '2021-02-11T03:11:08.000000000' '2021-02-11T04:18:40.000000000']\n",
            "\n",
            "\n",
            "Closed Date  :  ['2020-11-23T01:41:21.000000000' '2020-11-23T12:02:05.000000000'\n",
            " '2020-02-12T12:57:35.000000000' ... '2021-02-25T03:25:02.000000000'\n",
            " '2021-02-12T11:42:07.000000000' '2021-02-25T04:32:26.000000000']\n",
            "\n",
            "\n"
          ]
        }
      ]
    },
    {
      "cell_type": "markdown",
      "source": [
        "The cities of Fort Worth, Dallas, & Houston are intuitively not affiliated to Austin. One can remove those cities. \n",
        "\n",
        "The city of Austin has countless combinations & mispellings, and random upper/lower case alterations. One can reduce the number of unique cities with several simple methods and techniques.\n",
        "\n"
      ],
      "metadata": {
        "id": "GjUUExZ5p_TZ"
      }
    },
    {
      "cell_type": "code",
      "source": [
        "df2[\"City\"] = df2[\"City\"].str.lower()\n",
        "austin_str_partition = []\n",
        "for i in range(len('austin')):\n",
        "  austin_str_partition.append('austin'[i:]) \n",
        "  austin_str_partition.append('austin'[:-i])\n",
        "austin_str_partition.remove('')\n",
        "\n",
        "# more variations\n",
        "words_to_add = ['ausstin', 'austtin', 'austin 5 etj', 'ausitn', 'austni', 'austin.','austin, tx', 'atx', 'ausin', 'astin', 'austib','austibn','ausin','austinm','austun','austn','aua',\n",
        "                'austin `',]\n",
        "for i in words_to_add: austin_str_partition.append(i) \n",
        "\n",
        "words_to_remove = ['houston','dallas', 'fort worth', 'plano', 'other']\n",
        "for word in words_to_remove:\n",
        "  df2.drop(df2[df2['City'] == word].index, inplace = True)\n",
        "\n",
        "\n",
        "village_words = []\n",
        "village_remove =[]\n",
        "# all entries with 'village' can replaced without the prefix as they are repeated.\n",
        "for i in df2['City'].unique():\n",
        "  if 'village' in str(i):\n",
        "    village_words.append(i)\n",
        "    village_remove.append(i.replace('village of ',''))\n",
        "    df2['City'] = df2['City'].replace([i],i.replace('village of ',''))\n",
        "\n",
        "df2['City'] = df2['City'].replace(austin_str_partition,'austin')\n",
        "df2['City'] = df2['City'].replace('bee caves','bee cave')\n",
        "\n",
        "# make an assumption that terms related to travis are referring to austin as a city itself.\n",
        "df2['City'] = df2['City'].replace('travis','austin')\n",
        "df2['City'] = df2['City'].replace('travis county','austin')\n",
        "print((df2['City'].unique()))\n",
        "print(len(df2['City'].unique()))\n"
      ],
      "metadata": {
        "colab": {
          "base_uri": "https://localhost:8080/"
        },
        "id": "l_9EnNAQrdUA",
        "outputId": "be0dcf2b-68d0-47d7-c038-3aabe4960569"
      },
      "execution_count": 16,
      "outputs": [
        {
          "output_type": "stream",
          "name": "stdout",
          "text": [
            "['austin' 'elgin' 'pflugerville' nan 'lakeway' 'lago vista' 'cedar park'\n",
            " 'manor' 'bee cave' 'round rock' 'webberville' 'volente' 'point venture'\n",
            " 'rollingwood' 'creedmoor' 'sunset valley' 'west lake hill' 'san leanna'\n",
            " 'jonestown' 'dripping sprin' 'mustang ridge' 'spicewood' 'del valle'\n",
            " 'the hills' 'leander' 'hutto' 'buda' 'briarcliff' 'georgetown'\n",
            " 'west lake hills' 'garfield' 'manchaca' 'kyle' 'bastrop' 'hays'\n",
            " 'lockhart' 'dripping springs' 'cedar creek' 'coupland' 'marble falls'\n",
            " 'sealy' 'bear creek' 'morrow' 'dale' 'worcester' 'oak hill' 'paige']\n",
            "47\n"
          ]
        }
      ]
    },
    {
      "cell_type": "code",
      "source": [
        "df2['Zip Code'].sort_values().unique() # a quick check shows all zip codes fall within what is reasonably austin and its rural surroundings"
      ],
      "metadata": {
        "colab": {
          "base_uri": "https://localhost:8080/"
        },
        "id": "HbaGfNDJ0kNX",
        "outputId": "1da621aa-2d3c-43ab-b848-a3ecaf756732"
      },
      "execution_count": 17,
      "outputs": [
        {
          "output_type": "execute_result",
          "data": {
            "text/plain": [
              "<IntegerArray>\n",
              "[78610, 78612, 78613, 78615, 78616, 78617, 78619, 78620, 78621, 78626, 78634,\n",
              " 78640, 78641, 78642, 78645, 78652, 78653, 78654, 78660, 78663, 78664, 78665,\n",
              " 78669, 78681, 78701, 78702, 78703, 78704, 78705, 78712, 78717, 78719, 78721,\n",
              " 78722, 78723, 78724, 78725, 78726, 78727, 78728, 78729, 78730, 78731, 78732,\n",
              " 78733, 78734, 78735, 78736, 78737, 78738, 78739, 78741, 78742, 78744, 78745,\n",
              " 78746, 78747, 78748, 78749, 78750, 78751, 78752, 78753, 78754, 78756, 78757,\n",
              " 78758, 78759,  <NA>]\n",
              "Length: 69, dtype: Int64"
            ]
          },
          "metadata": {},
          "execution_count": 17
        }
      ]
    },
    {
      "cell_type": "code",
      "source": [
        "# There are more council district than counties, more cities than council districts and more zip code than cities\n",
        "\n",
        "# zip codes can provide good granularity for a categorical description of location.\n",
        "# However, given that plenty of row values are null, and that overriding them with an assumption leaves a model prone to bias,\n",
        "# it is best to offset the lack of one categorical feature by the presence of another measure.\n",
        "\n",
        "# Considering the presence of 54,104 null council district values and the geographic broadness of this feature,\n",
        "# it may be best to forego this category.\n",
        "\n"
      ],
      "metadata": {
        "id": "v01iLxw78TBW"
      },
      "execution_count": 18,
      "outputs": []
    },
    {
      "cell_type": "code",
      "source": [
        "df2.isnull().sum()"
      ],
      "metadata": {
        "colab": {
          "base_uri": "https://localhost:8080/"
        },
        "id": "PxgNUF0J-CL9",
        "outputId": "e60ab632-0cc8-467c-919f-fe1d6de89e48"
      },
      "execution_count": 19,
      "outputs": [
        {
          "output_type": "execute_result",
          "data": {
            "text/plain": [
              "SR Description              0\n",
              "Method Received             0\n",
              "SR Status                   0\n",
              "Street Name              9008\n",
              "City                    12059\n",
              "Zip Code                12794\n",
              "County                  17661\n",
              "Latitude Coordinate         0\n",
              "Longitude Coordinate        0\n",
              "Council District        53953\n",
              "Created Date                0\n",
              "Closed Date                 0\n",
              "dtype: int64"
            ]
          },
          "metadata": {},
          "execution_count": 19
        }
      ]
    },
    {
      "cell_type": "code",
      "source": [
        "df2.drop_duplicates(inplace = True) # remove duplicates\n",
        "# all cases are succesffully resolved if they are 'closed' or 'resolved\n",
        "# One SR status says 'TO BE DELETED'. Rows with this status will be deleted.\n",
        "set(df2['SR Status'].unique())\n",
        "# Implement a binary system.\n",
        "# Operate under the assumption that incomplete closed correspondences are\n",
        "#  'successful', they will be marked as ones. This artifically increases the probability of achieving a target of 1.\n",
        "df2.drop(df2[df2['SR Status'] == 'TO BE DELETED'].index, inplace = True)\n",
        "binary_0_set = set(['Open', 'Duplicate (open)','Closed -Incomplete', 'Work In Progress',\n",
        "                 'Incomplete','Closed -Incomplete Information','New'])\n",
        "\n",
        "binary_1_set = set(df2['SR Status'].unique()) - binary_0_set\n",
        "\n",
        "\n",
        "df2['SR Status'] = df2['SR Status'].replace(list(binary_0_set),0)\n",
        "df2['SR Status'] = df2['SR Status'].replace(list(binary_1_set),1)\n",
        "\n",
        "\n",
        "\n"
      ],
      "metadata": {
        "id": "23MiMgVFCl6q"
      },
      "execution_count": 20,
      "outputs": []
    },
    {
      "cell_type": "markdown",
      "source": [
        "Classification model to predict if a call will be resolved.\n",
        "\n",
        "\n",
        "\n",
        "*  The question asks about new 311 calls, but disregarding all types of other methods of correspondence can reduce the sample size. It can also be important to know the effect of communication method on the probability of a case being resolved.\n",
        "*   Considering that the question asks about new calls, the model operates without taking into consideration time as an input variable. Therefore, there is an attempt to generalize based on other factors.\n",
        "\n"
      ],
      "metadata": {
        "id": "HYyqwWqsQLhV"
      }
    },
    {
      "cell_type": "markdown",
      "source": [
        "It is very difficult to assume probabilistic independence within the independent variables themselves. Zip code can easily define city, and vice versa to some extent. This makes working with Naive Bayes difficult to justify without further pruning. However, Naive Bayes works well with categorical data.\n",
        "\n",
        "Logistic regression also works best with low multicollinearity.\n",
        "\n",
        "In addition, some anomalous independent variables can be neglected by reducing the number of independent variables. Overfitting can be mitigated.\n",
        "\n",
        "Therefore, it would be best to constraint geographic independent variables \n",
        "to a select few, primarily City, Zip Code, & Lat-Long coordinates.\n",
        "\n"
      ],
      "metadata": {
        "id": "D-c0JQhuq-Ig"
      }
    },
    {
      "cell_type": "code",
      "source": [
        "df2['Zip Code'] = df2['Zip Code'].astype('object') # convert back to object for OHE\n",
        "\n",
        "# The line above was the easiest way to debug an issue related to implementing\n",
        "# OHE on numerical data.\n",
        "df2_full = df2.dropna() # altered form of df2. This drops the remaining null categorical entries.\n",
        "\n",
        "X = df2_full.loc[:,['SR Description', 'Method Received', 'City', 'Zip Code','Latitude Coordinate','Longitude Coordinate']]\n",
        "y = df2_full.loc[:,['SR Status']]\n",
        "\n",
        " # we choose X to be a multidimensional input, y is a scalar output.\n",
        "\n",
        "cols_obj = [col for col in X.columns if X[col].dtype in ['object']]\n",
        "\n",
        "\n",
        "# even though Zip Code is numerical and expressed as an integer, it is categorical\n",
        "# in nature.\n",
        "X_hot = pd.get_dummies(X, cols_obj) \n",
        "\n",
        "X_hot\n",
        "\n",
        "\n",
        "\n"
      ],
      "metadata": {
        "colab": {
          "base_uri": "https://localhost:8080/",
          "height": 557
        },
        "id": "8H065ex9QXUH",
        "outputId": "0c991318-521b-48a7-9f9b-8c42eb2dee73"
      },
      "execution_count": 21,
      "outputs": [
        {
          "output_type": "execute_result",
          "data": {
            "text/html": [
              "\n",
              "  <div id=\"df-1a9a1003-e571-415f-859b-33f88b2fd89f\">\n",
              "    <div class=\"colab-df-container\">\n",
              "      <div>\n",
              "<style scoped>\n",
              "    .dataframe tbody tr th:only-of-type {\n",
              "        vertical-align: middle;\n",
              "    }\n",
              "\n",
              "    .dataframe tbody tr th {\n",
              "        vertical-align: top;\n",
              "    }\n",
              "\n",
              "    .dataframe thead th {\n",
              "        text-align: right;\n",
              "    }\n",
              "</style>\n",
              "<table border=\"1\" class=\"dataframe\">\n",
              "  <thead>\n",
              "    <tr style=\"text-align: right;\">\n",
              "      <th></th>\n",
              "      <th>Latitude Coordinate</th>\n",
              "      <th>Longitude Coordinate</th>\n",
              "      <th>SR Description_AFD - Wildfire Concern / Presentation</th>\n",
              "      <th>SR Description_ARR Brush and Bulk</th>\n",
              "      <th>SR Description_ARR Dead Animal Collection</th>\n",
              "      <th>SR Description_ARR Dumpster</th>\n",
              "      <th>SR Description_ARR Missed Recycling</th>\n",
              "      <th>SR Description_ARR Missed Yard Trimmings /Organics</th>\n",
              "      <th>SR Description_ARR Missed Yard Trimmings/Compost</th>\n",
              "      <th>SR Description_ARR Street Sweeping</th>\n",
              "      <th>...</th>\n",
              "      <th>Zip Code_78749</th>\n",
              "      <th>Zip Code_78750</th>\n",
              "      <th>Zip Code_78751</th>\n",
              "      <th>Zip Code_78752</th>\n",
              "      <th>Zip Code_78753</th>\n",
              "      <th>Zip Code_78754</th>\n",
              "      <th>Zip Code_78756</th>\n",
              "      <th>Zip Code_78757</th>\n",
              "      <th>Zip Code_78758</th>\n",
              "      <th>Zip Code_78759</th>\n",
              "    </tr>\n",
              "  </thead>\n",
              "  <tbody>\n",
              "    <tr>\n",
              "      <th>0</th>\n",
              "      <td>30.280581</td>\n",
              "      <td>-97.685318</td>\n",
              "      <td>0</td>\n",
              "      <td>0</td>\n",
              "      <td>0</td>\n",
              "      <td>0</td>\n",
              "      <td>0</td>\n",
              "      <td>0</td>\n",
              "      <td>0</td>\n",
              "      <td>0</td>\n",
              "      <td>...</td>\n",
              "      <td>0</td>\n",
              "      <td>0</td>\n",
              "      <td>0</td>\n",
              "      <td>0</td>\n",
              "      <td>0</td>\n",
              "      <td>0</td>\n",
              "      <td>0</td>\n",
              "      <td>0</td>\n",
              "      <td>0</td>\n",
              "      <td>0</td>\n",
              "    </tr>\n",
              "    <tr>\n",
              "      <th>1</th>\n",
              "      <td>30.302857</td>\n",
              "      <td>-97.742312</td>\n",
              "      <td>0</td>\n",
              "      <td>0</td>\n",
              "      <td>0</td>\n",
              "      <td>0</td>\n",
              "      <td>0</td>\n",
              "      <td>0</td>\n",
              "      <td>0</td>\n",
              "      <td>0</td>\n",
              "      <td>...</td>\n",
              "      <td>0</td>\n",
              "      <td>0</td>\n",
              "      <td>0</td>\n",
              "      <td>0</td>\n",
              "      <td>0</td>\n",
              "      <td>0</td>\n",
              "      <td>0</td>\n",
              "      <td>0</td>\n",
              "      <td>0</td>\n",
              "      <td>0</td>\n",
              "    </tr>\n",
              "    <tr>\n",
              "      <th>2</th>\n",
              "      <td>30.219838</td>\n",
              "      <td>-97.688440</td>\n",
              "      <td>0</td>\n",
              "      <td>0</td>\n",
              "      <td>0</td>\n",
              "      <td>0</td>\n",
              "      <td>0</td>\n",
              "      <td>0</td>\n",
              "      <td>0</td>\n",
              "      <td>0</td>\n",
              "      <td>...</td>\n",
              "      <td>0</td>\n",
              "      <td>0</td>\n",
              "      <td>0</td>\n",
              "      <td>0</td>\n",
              "      <td>0</td>\n",
              "      <td>0</td>\n",
              "      <td>0</td>\n",
              "      <td>0</td>\n",
              "      <td>0</td>\n",
              "      <td>0</td>\n",
              "    </tr>\n",
              "    <tr>\n",
              "      <th>3</th>\n",
              "      <td>30.206036</td>\n",
              "      <td>-97.702592</td>\n",
              "      <td>0</td>\n",
              "      <td>0</td>\n",
              "      <td>1</td>\n",
              "      <td>0</td>\n",
              "      <td>0</td>\n",
              "      <td>0</td>\n",
              "      <td>0</td>\n",
              "      <td>0</td>\n",
              "      <td>...</td>\n",
              "      <td>0</td>\n",
              "      <td>0</td>\n",
              "      <td>0</td>\n",
              "      <td>0</td>\n",
              "      <td>0</td>\n",
              "      <td>0</td>\n",
              "      <td>0</td>\n",
              "      <td>0</td>\n",
              "      <td>0</td>\n",
              "      <td>0</td>\n",
              "    </tr>\n",
              "    <tr>\n",
              "      <th>4</th>\n",
              "      <td>30.221664</td>\n",
              "      <td>-97.707177</td>\n",
              "      <td>0</td>\n",
              "      <td>0</td>\n",
              "      <td>0</td>\n",
              "      <td>0</td>\n",
              "      <td>0</td>\n",
              "      <td>0</td>\n",
              "      <td>0</td>\n",
              "      <td>0</td>\n",
              "      <td>...</td>\n",
              "      <td>0</td>\n",
              "      <td>0</td>\n",
              "      <td>0</td>\n",
              "      <td>0</td>\n",
              "      <td>0</td>\n",
              "      <td>0</td>\n",
              "      <td>0</td>\n",
              "      <td>0</td>\n",
              "      <td>0</td>\n",
              "      <td>0</td>\n",
              "    </tr>\n",
              "    <tr>\n",
              "      <th>...</th>\n",
              "      <td>...</td>\n",
              "      <td>...</td>\n",
              "      <td>...</td>\n",
              "      <td>...</td>\n",
              "      <td>...</td>\n",
              "      <td>...</td>\n",
              "      <td>...</td>\n",
              "      <td>...</td>\n",
              "      <td>...</td>\n",
              "      <td>...</td>\n",
              "      <td>...</td>\n",
              "      <td>...</td>\n",
              "      <td>...</td>\n",
              "      <td>...</td>\n",
              "      <td>...</td>\n",
              "      <td>...</td>\n",
              "      <td>...</td>\n",
              "      <td>...</td>\n",
              "      <td>...</td>\n",
              "      <td>...</td>\n",
              "      <td>...</td>\n",
              "    </tr>\n",
              "    <tr>\n",
              "      <th>912291</th>\n",
              "      <td>30.223226</td>\n",
              "      <td>-97.804059</td>\n",
              "      <td>0</td>\n",
              "      <td>0</td>\n",
              "      <td>0</td>\n",
              "      <td>0</td>\n",
              "      <td>0</td>\n",
              "      <td>0</td>\n",
              "      <td>0</td>\n",
              "      <td>0</td>\n",
              "      <td>...</td>\n",
              "      <td>0</td>\n",
              "      <td>0</td>\n",
              "      <td>0</td>\n",
              "      <td>0</td>\n",
              "      <td>0</td>\n",
              "      <td>0</td>\n",
              "      <td>0</td>\n",
              "      <td>0</td>\n",
              "      <td>0</td>\n",
              "      <td>0</td>\n",
              "    </tr>\n",
              "    <tr>\n",
              "      <th>912292</th>\n",
              "      <td>30.411252</td>\n",
              "      <td>-97.721854</td>\n",
              "      <td>0</td>\n",
              "      <td>0</td>\n",
              "      <td>0</td>\n",
              "      <td>0</td>\n",
              "      <td>0</td>\n",
              "      <td>0</td>\n",
              "      <td>0</td>\n",
              "      <td>0</td>\n",
              "      <td>...</td>\n",
              "      <td>0</td>\n",
              "      <td>0</td>\n",
              "      <td>0</td>\n",
              "      <td>0</td>\n",
              "      <td>0</td>\n",
              "      <td>0</td>\n",
              "      <td>0</td>\n",
              "      <td>0</td>\n",
              "      <td>0</td>\n",
              "      <td>1</td>\n",
              "    </tr>\n",
              "    <tr>\n",
              "      <th>912293</th>\n",
              "      <td>30.285426</td>\n",
              "      <td>-97.847279</td>\n",
              "      <td>0</td>\n",
              "      <td>0</td>\n",
              "      <td>0</td>\n",
              "      <td>0</td>\n",
              "      <td>1</td>\n",
              "      <td>0</td>\n",
              "      <td>0</td>\n",
              "      <td>0</td>\n",
              "      <td>...</td>\n",
              "      <td>0</td>\n",
              "      <td>0</td>\n",
              "      <td>0</td>\n",
              "      <td>0</td>\n",
              "      <td>0</td>\n",
              "      <td>0</td>\n",
              "      <td>0</td>\n",
              "      <td>0</td>\n",
              "      <td>0</td>\n",
              "      <td>0</td>\n",
              "    </tr>\n",
              "    <tr>\n",
              "      <th>912294</th>\n",
              "      <td>30.453887</td>\n",
              "      <td>-97.809794</td>\n",
              "      <td>0</td>\n",
              "      <td>0</td>\n",
              "      <td>0</td>\n",
              "      <td>0</td>\n",
              "      <td>0</td>\n",
              "      <td>0</td>\n",
              "      <td>0</td>\n",
              "      <td>0</td>\n",
              "      <td>...</td>\n",
              "      <td>0</td>\n",
              "      <td>1</td>\n",
              "      <td>0</td>\n",
              "      <td>0</td>\n",
              "      <td>0</td>\n",
              "      <td>0</td>\n",
              "      <td>0</td>\n",
              "      <td>0</td>\n",
              "      <td>0</td>\n",
              "      <td>0</td>\n",
              "    </tr>\n",
              "    <tr>\n",
              "      <th>912299</th>\n",
              "      <td>30.204533</td>\n",
              "      <td>-97.797817</td>\n",
              "      <td>0</td>\n",
              "      <td>0</td>\n",
              "      <td>0</td>\n",
              "      <td>0</td>\n",
              "      <td>0</td>\n",
              "      <td>0</td>\n",
              "      <td>0</td>\n",
              "      <td>0</td>\n",
              "      <td>...</td>\n",
              "      <td>0</td>\n",
              "      <td>0</td>\n",
              "      <td>0</td>\n",
              "      <td>0</td>\n",
              "      <td>0</td>\n",
              "      <td>0</td>\n",
              "      <td>0</td>\n",
              "      <td>0</td>\n",
              "      <td>0</td>\n",
              "      <td>0</td>\n",
              "    </tr>\n",
              "  </tbody>\n",
              "</table>\n",
              "<p>850232 rows × 230 columns</p>\n",
              "</div>\n",
              "      <button class=\"colab-df-convert\" onclick=\"convertToInteractive('df-1a9a1003-e571-415f-859b-33f88b2fd89f')\"\n",
              "              title=\"Convert this dataframe to an interactive table.\"\n",
              "              style=\"display:none;\">\n",
              "        \n",
              "  <svg xmlns=\"http://www.w3.org/2000/svg\" height=\"24px\"viewBox=\"0 0 24 24\"\n",
              "       width=\"24px\">\n",
              "    <path d=\"M0 0h24v24H0V0z\" fill=\"none\"/>\n",
              "    <path d=\"M18.56 5.44l.94 2.06.94-2.06 2.06-.94-2.06-.94-.94-2.06-.94 2.06-2.06.94zm-11 1L8.5 8.5l.94-2.06 2.06-.94-2.06-.94L8.5 2.5l-.94 2.06-2.06.94zm10 10l.94 2.06.94-2.06 2.06-.94-2.06-.94-.94-2.06-.94 2.06-2.06.94z\"/><path d=\"M17.41 7.96l-1.37-1.37c-.4-.4-.92-.59-1.43-.59-.52 0-1.04.2-1.43.59L10.3 9.45l-7.72 7.72c-.78.78-.78 2.05 0 2.83L4 21.41c.39.39.9.59 1.41.59.51 0 1.02-.2 1.41-.59l7.78-7.78 2.81-2.81c.8-.78.8-2.07 0-2.86zM5.41 20L4 18.59l7.72-7.72 1.47 1.35L5.41 20z\"/>\n",
              "  </svg>\n",
              "      </button>\n",
              "      \n",
              "  <style>\n",
              "    .colab-df-container {\n",
              "      display:flex;\n",
              "      flex-wrap:wrap;\n",
              "      gap: 12px;\n",
              "    }\n",
              "\n",
              "    .colab-df-convert {\n",
              "      background-color: #E8F0FE;\n",
              "      border: none;\n",
              "      border-radius: 50%;\n",
              "      cursor: pointer;\n",
              "      display: none;\n",
              "      fill: #1967D2;\n",
              "      height: 32px;\n",
              "      padding: 0 0 0 0;\n",
              "      width: 32px;\n",
              "    }\n",
              "\n",
              "    .colab-df-convert:hover {\n",
              "      background-color: #E2EBFA;\n",
              "      box-shadow: 0px 1px 2px rgba(60, 64, 67, 0.3), 0px 1px 3px 1px rgba(60, 64, 67, 0.15);\n",
              "      fill: #174EA6;\n",
              "    }\n",
              "\n",
              "    [theme=dark] .colab-df-convert {\n",
              "      background-color: #3B4455;\n",
              "      fill: #D2E3FC;\n",
              "    }\n",
              "\n",
              "    [theme=dark] .colab-df-convert:hover {\n",
              "      background-color: #434B5C;\n",
              "      box-shadow: 0px 1px 3px 1px rgba(0, 0, 0, 0.15);\n",
              "      filter: drop-shadow(0px 1px 2px rgba(0, 0, 0, 0.3));\n",
              "      fill: #FFFFFF;\n",
              "    }\n",
              "  </style>\n",
              "\n",
              "      <script>\n",
              "        const buttonEl =\n",
              "          document.querySelector('#df-1a9a1003-e571-415f-859b-33f88b2fd89f button.colab-df-convert');\n",
              "        buttonEl.style.display =\n",
              "          google.colab.kernel.accessAllowed ? 'block' : 'none';\n",
              "\n",
              "        async function convertToInteractive(key) {\n",
              "          const element = document.querySelector('#df-1a9a1003-e571-415f-859b-33f88b2fd89f');\n",
              "          const dataTable =\n",
              "            await google.colab.kernel.invokeFunction('convertToInteractive',\n",
              "                                                     [key], {});\n",
              "          if (!dataTable) return;\n",
              "\n",
              "          const docLinkHtml = 'Like what you see? Visit the ' +\n",
              "            '<a target=\"_blank\" href=https://colab.research.google.com/notebooks/data_table.ipynb>data table notebook</a>'\n",
              "            + ' to learn more about interactive tables.';\n",
              "          element.innerHTML = '';\n",
              "          dataTable['output_type'] = 'display_data';\n",
              "          await google.colab.output.renderOutput(dataTable, element);\n",
              "          const docLink = document.createElement('div');\n",
              "          docLink.innerHTML = docLinkHtml;\n",
              "          element.appendChild(docLink);\n",
              "        }\n",
              "      </script>\n",
              "    </div>\n",
              "  </div>\n",
              "  "
            ],
            "text/plain": [
              "        Latitude Coordinate  Longitude Coordinate  \\\n",
              "0                 30.280581            -97.685318   \n",
              "1                 30.302857            -97.742312   \n",
              "2                 30.219838            -97.688440   \n",
              "3                 30.206036            -97.702592   \n",
              "4                 30.221664            -97.707177   \n",
              "...                     ...                   ...   \n",
              "912291            30.223226            -97.804059   \n",
              "912292            30.411252            -97.721854   \n",
              "912293            30.285426            -97.847279   \n",
              "912294            30.453887            -97.809794   \n",
              "912299            30.204533            -97.797817   \n",
              "\n",
              "        SR Description_AFD - Wildfire Concern / Presentation  \\\n",
              "0                                                       0      \n",
              "1                                                       0      \n",
              "2                                                       0      \n",
              "3                                                       0      \n",
              "4                                                       0      \n",
              "...                                                   ...      \n",
              "912291                                                  0      \n",
              "912292                                                  0      \n",
              "912293                                                  0      \n",
              "912294                                                  0      \n",
              "912299                                                  0      \n",
              "\n",
              "        SR Description_ARR Brush and Bulk  \\\n",
              "0                                       0   \n",
              "1                                       0   \n",
              "2                                       0   \n",
              "3                                       0   \n",
              "4                                       0   \n",
              "...                                   ...   \n",
              "912291                                  0   \n",
              "912292                                  0   \n",
              "912293                                  0   \n",
              "912294                                  0   \n",
              "912299                                  0   \n",
              "\n",
              "        SR Description_ARR Dead Animal Collection  \\\n",
              "0                                               0   \n",
              "1                                               0   \n",
              "2                                               0   \n",
              "3                                               1   \n",
              "4                                               0   \n",
              "...                                           ...   \n",
              "912291                                          0   \n",
              "912292                                          0   \n",
              "912293                                          0   \n",
              "912294                                          0   \n",
              "912299                                          0   \n",
              "\n",
              "        SR Description_ARR Dumpster  SR Description_ARR Missed Recycling  \\\n",
              "0                                 0                                    0   \n",
              "1                                 0                                    0   \n",
              "2                                 0                                    0   \n",
              "3                                 0                                    0   \n",
              "4                                 0                                    0   \n",
              "...                             ...                                  ...   \n",
              "912291                            0                                    0   \n",
              "912292                            0                                    0   \n",
              "912293                            0                                    1   \n",
              "912294                            0                                    0   \n",
              "912299                            0                                    0   \n",
              "\n",
              "        SR Description_ARR Missed Yard Trimmings /Organics  \\\n",
              "0                                                       0    \n",
              "1                                                       0    \n",
              "2                                                       0    \n",
              "3                                                       0    \n",
              "4                                                       0    \n",
              "...                                                   ...    \n",
              "912291                                                  0    \n",
              "912292                                                  0    \n",
              "912293                                                  0    \n",
              "912294                                                  0    \n",
              "912299                                                  0    \n",
              "\n",
              "        SR Description_ARR Missed Yard Trimmings/Compost  \\\n",
              "0                                                      0   \n",
              "1                                                      0   \n",
              "2                                                      0   \n",
              "3                                                      0   \n",
              "4                                                      0   \n",
              "...                                                  ...   \n",
              "912291                                                 0   \n",
              "912292                                                 0   \n",
              "912293                                                 0   \n",
              "912294                                                 0   \n",
              "912299                                                 0   \n",
              "\n",
              "        SR Description_ARR Street Sweeping  ...  Zip Code_78749  \\\n",
              "0                                        0  ...               0   \n",
              "1                                        0  ...               0   \n",
              "2                                        0  ...               0   \n",
              "3                                        0  ...               0   \n",
              "4                                        0  ...               0   \n",
              "...                                    ...  ...             ...   \n",
              "912291                                   0  ...               0   \n",
              "912292                                   0  ...               0   \n",
              "912293                                   0  ...               0   \n",
              "912294                                   0  ...               0   \n",
              "912299                                   0  ...               0   \n",
              "\n",
              "        Zip Code_78750  Zip Code_78751  Zip Code_78752  Zip Code_78753  \\\n",
              "0                    0               0               0               0   \n",
              "1                    0               0               0               0   \n",
              "2                    0               0               0               0   \n",
              "3                    0               0               0               0   \n",
              "4                    0               0               0               0   \n",
              "...                ...             ...             ...             ...   \n",
              "912291               0               0               0               0   \n",
              "912292               0               0               0               0   \n",
              "912293               0               0               0               0   \n",
              "912294               1               0               0               0   \n",
              "912299               0               0               0               0   \n",
              "\n",
              "        Zip Code_78754  Zip Code_78756  Zip Code_78757  Zip Code_78758  \\\n",
              "0                    0               0               0               0   \n",
              "1                    0               0               0               0   \n",
              "2                    0               0               0               0   \n",
              "3                    0               0               0               0   \n",
              "4                    0               0               0               0   \n",
              "...                ...             ...             ...             ...   \n",
              "912291               0               0               0               0   \n",
              "912292               0               0               0               0   \n",
              "912293               0               0               0               0   \n",
              "912294               0               0               0               0   \n",
              "912299               0               0               0               0   \n",
              "\n",
              "        Zip Code_78759  \n",
              "0                    0  \n",
              "1                    0  \n",
              "2                    0  \n",
              "3                    0  \n",
              "4                    0  \n",
              "...                ...  \n",
              "912291               0  \n",
              "912292               1  \n",
              "912293               0  \n",
              "912294               0  \n",
              "912299               0  \n",
              "\n",
              "[850232 rows x 230 columns]"
            ]
          },
          "metadata": {},
          "execution_count": 21
        }
      ]
    },
    {
      "cell_type": "markdown",
      "source": [
        "Split into test set and training set"
      ],
      "metadata": {
        "id": "k1-6i1DQpKUb"
      }
    },
    {
      "cell_type": "code",
      "source": [
        "\n",
        "X_train, X_test, y_train, y_test = train_test_split(X_hot,y,test_size=0.2, random_state=1) # 80 % train, 20% test.\n",
        "\n"
      ],
      "metadata": {
        "id": "fmiHj0gRpObw"
      },
      "execution_count": 22,
      "outputs": []
    },
    {
      "cell_type": "markdown",
      "source": [
        "Attempt logistic regression and retrieve AOC ROC score.\n",
        "This provides a good understanding of the profile of true positives and false positives.\n",
        "\n",
        "1.   It is important to keep in mind the categorical nature of the data\n",
        "2.   The definition of resolved or closed has been very liberal and expanded in nature, so the notion of a true positive may not align with one's expectations.\n",
        "\n"
      ],
      "metadata": {
        "id": "CuYA_cQQrWPj"
      }
    },
    {
      "cell_type": "code",
      "source": [
        "\n",
        "mdlLgr = LogisticRegression()\n",
        "mdlLgr.fit(X_train,y_train)\n",
        "y_test_pred = mdlLgr.predict(X_test)\n",
        "\n"
      ],
      "metadata": {
        "colab": {
          "base_uri": "https://localhost:8080/"
        },
        "id": "pgBmhlv1raL-",
        "outputId": "8686fff2-1c6a-4ece-e71d-e78d2486ca71"
      },
      "execution_count": 23,
      "outputs": [
        {
          "output_type": "stream",
          "name": "stderr",
          "text": [
            "/usr/local/lib/python3.7/dist-packages/sklearn/utils/validation.py:993: DataConversionWarning: A column-vector y was passed when a 1d array was expected. Please change the shape of y to (n_samples, ), for example using ravel().\n",
            "  y = column_or_1d(y, warn=True)\n",
            "/usr/local/lib/python3.7/dist-packages/sklearn/linear_model/_logistic.py:818: ConvergenceWarning: lbfgs failed to converge (status=1):\n",
            "STOP: TOTAL NO. of ITERATIONS REACHED LIMIT.\n",
            "\n",
            "Increase the number of iterations (max_iter) or scale the data as shown in:\n",
            "    https://scikit-learn.org/stable/modules/preprocessing.html\n",
            "Please also refer to the documentation for alternative solver options:\n",
            "    https://scikit-learn.org/stable/modules/linear_model.html#logistic-regression\n",
            "  extra_warning_msg=_LOGISTIC_SOLVER_CONVERGENCE_MSG,\n"
          ]
        }
      ]
    },
    {
      "cell_type": "code",
      "source": [
        "set(y_test_pred)"
      ],
      "metadata": {
        "colab": {
          "base_uri": "https://localhost:8080/"
        },
        "id": "ius66tJdx3gT",
        "outputId": "358eb0ae-2da3-44fc-e2de-1608183580fc"
      },
      "execution_count": 24,
      "outputs": [
        {
          "output_type": "execute_result",
          "data": {
            "text/plain": [
              "{1}"
            ]
          },
          "metadata": {},
          "execution_count": 24
        }
      ]
    },
    {
      "cell_type": "code",
      "source": [
        "confusion_matrix(y_test, y_test_pred) # none of the values predicted as 0.\n"
      ],
      "metadata": {
        "colab": {
          "base_uri": "https://localhost:8080/"
        },
        "id": "8WobcA-lycBm",
        "outputId": "810790d8-c488-47aa-89f0-8d80da1517ec"
      },
      "execution_count": 25,
      "outputs": [
        {
          "output_type": "execute_result",
          "data": {
            "text/plain": [
              "array([[     0,    404],\n",
              "       [     0, 169643]])"
            ]
          },
          "metadata": {},
          "execution_count": 25
        }
      ]
    },
    {
      "cell_type": "code",
      "source": [
        "roc_auc_score(y_test, y_test_pred) # logistic regression yields the worst case scenario for auc score.\n",
        "# Try some more models before altering more.\n",
        "# All values are predicted as zeros.\n"
      ],
      "metadata": {
        "colab": {
          "base_uri": "https://localhost:8080/"
        },
        "id": "v0YiFIf0wD-X",
        "outputId": "57ebca38-9156-465d-ca3c-16ff36e12bb2"
      },
      "execution_count": 26,
      "outputs": [
        {
          "output_type": "execute_result",
          "data": {
            "text/plain": [
              "0.5"
            ]
          },
          "metadata": {},
          "execution_count": 26
        }
      ]
    },
    {
      "cell_type": "code",
      "source": [
        "## Build Naive Bayes Gaussian model\n",
        "\n",
        "\n",
        "mdlNbg = GaussianNB()\n",
        "mdlNbg.fit(X_train, y_train)\n",
        "y_test_pred_Nbg = mdlNbg.predict(X_test)\n",
        "roc_auc_score(y_test, y_test_pred_Nbg)"
      ],
      "metadata": {
        "colab": {
          "base_uri": "https://localhost:8080/"
        },
        "id": "hA8WlC3gwxfZ",
        "outputId": "86e5a773-438a-4a09-ce55-822357c4fb65"
      },
      "execution_count": 27,
      "outputs": [
        {
          "output_type": "stream",
          "name": "stderr",
          "text": [
            "/usr/local/lib/python3.7/dist-packages/sklearn/utils/validation.py:993: DataConversionWarning: A column-vector y was passed when a 1d array was expected. Please change the shape of y to (n_samples, ), for example using ravel().\n",
            "  y = column_or_1d(y, warn=True)\n"
          ]
        },
        {
          "output_type": "execute_result",
          "data": {
            "text/plain": [
              "0.6457625442666641"
            ]
          },
          "metadata": {},
          "execution_count": 27
        }
      ]
    },
    {
      "cell_type": "code",
      "source": [
        "## Build Naive Bayes Bernoulli model\n",
        "\n",
        "from sklearn.naive_bayes import BernoulliNB # also obtains worst case scenario, makes sense because the categories of input are not binary\n",
        "\n",
        "mdlNbb = BernoulliNB(binarize=True)\n",
        "mdlNbb.fit(X_train, y_train)\n",
        "y_test_pred = mdlNbb.predict(X_test)\n",
        "roc_auc_score(y_test, y_test_pred)"
      ],
      "metadata": {
        "colab": {
          "base_uri": "https://localhost:8080/"
        },
        "id": "WHuoetJP-7_e",
        "outputId": "d9700150-3f47-4672-979e-725c95136505"
      },
      "execution_count": 28,
      "outputs": [
        {
          "output_type": "stream",
          "name": "stderr",
          "text": [
            "/usr/local/lib/python3.7/dist-packages/sklearn/utils/validation.py:993: DataConversionWarning: A column-vector y was passed when a 1d array was expected. Please change the shape of y to (n_samples, ), for example using ravel().\n",
            "  y = column_or_1d(y, warn=True)\n"
          ]
        },
        {
          "output_type": "execute_result",
          "data": {
            "text/plain": [
              "0.5"
            ]
          },
          "metadata": {},
          "execution_count": 28
        }
      ]
    },
    {
      "cell_type": "code",
      "source": [
        "from sklearn.naive_bayes import ComplementNB # negative values passed in.\n",
        "mdlCnb = ComplementNB()\n",
        "mdlCnb.fit(X_train, y_train)\n",
        "y_test_pred_Cnb = mdlCnb.predict(X_test)\n",
        "roc_auc_score(y_test, y_test_pred_Cnb)\n"
      ],
      "metadata": {
        "colab": {
          "base_uri": "https://localhost:8080/",
          "height": 449
        },
        "id": "wZJaJwUkAFoE",
        "outputId": "01b22b06-cbb9-40fa-97e1-b4c8db182c2c"
      },
      "execution_count": 30,
      "outputs": [
        {
          "output_type": "stream",
          "name": "stderr",
          "text": [
            "/usr/local/lib/python3.7/dist-packages/sklearn/utils/validation.py:993: DataConversionWarning: A column-vector y was passed when a 1d array was expected. Please change the shape of y to (n_samples, ), for example using ravel().\n",
            "  y = column_or_1d(y, warn=True)\n"
          ]
        },
        {
          "output_type": "error",
          "ename": "ValueError",
          "evalue": "ignored",
          "traceback": [
            "\u001b[0;31m---------------------------------------------------------------------------\u001b[0m",
            "\u001b[0;31mValueError\u001b[0m                                Traceback (most recent call last)",
            "\u001b[0;32m<ipython-input-30-a466711f8d75>\u001b[0m in \u001b[0;36m<module>\u001b[0;34m()\u001b[0m\n\u001b[1;32m      1\u001b[0m \u001b[0;32mfrom\u001b[0m \u001b[0msklearn\u001b[0m\u001b[0;34m.\u001b[0m\u001b[0mnaive_bayes\u001b[0m \u001b[0;32mimport\u001b[0m \u001b[0mComplementNB\u001b[0m \u001b[0;31m# negative values passed in.\u001b[0m\u001b[0;34m\u001b[0m\u001b[0;34m\u001b[0m\u001b[0m\n\u001b[1;32m      2\u001b[0m \u001b[0mmdlCnb\u001b[0m \u001b[0;34m=\u001b[0m \u001b[0mComplementNB\u001b[0m\u001b[0;34m(\u001b[0m\u001b[0;34m)\u001b[0m\u001b[0;34m\u001b[0m\u001b[0;34m\u001b[0m\u001b[0m\n\u001b[0;32m----> 3\u001b[0;31m \u001b[0mmdlCnb\u001b[0m\u001b[0;34m.\u001b[0m\u001b[0mfit\u001b[0m\u001b[0;34m(\u001b[0m\u001b[0mX_train\u001b[0m\u001b[0;34m,\u001b[0m \u001b[0my_train\u001b[0m\u001b[0;34m)\u001b[0m\u001b[0;34m\u001b[0m\u001b[0;34m\u001b[0m\u001b[0m\n\u001b[0m\u001b[1;32m      4\u001b[0m \u001b[0my_test_pred_Cnb\u001b[0m \u001b[0;34m=\u001b[0m \u001b[0mmdlCnb\u001b[0m\u001b[0;34m.\u001b[0m\u001b[0mpredict\u001b[0m\u001b[0;34m(\u001b[0m\u001b[0mX_test\u001b[0m\u001b[0;34m)\u001b[0m\u001b[0;34m\u001b[0m\u001b[0;34m\u001b[0m\u001b[0m\n\u001b[1;32m      5\u001b[0m \u001b[0mroc_auc_score\u001b[0m\u001b[0;34m(\u001b[0m\u001b[0my_test\u001b[0m\u001b[0;34m,\u001b[0m \u001b[0my_test_pred_Cnb\u001b[0m\u001b[0;34m)\u001b[0m\u001b[0;34m\u001b[0m\u001b[0;34m\u001b[0m\u001b[0m\n",
            "\u001b[0;32m/usr/local/lib/python3.7/dist-packages/sklearn/naive_bayes.py\u001b[0m in \u001b[0;36mfit\u001b[0;34m(self, X, y, sample_weight)\u001b[0m\n\u001b[1;32m    688\u001b[0m         \u001b[0mn_classes\u001b[0m \u001b[0;34m=\u001b[0m \u001b[0mY\u001b[0m\u001b[0;34m.\u001b[0m\u001b[0mshape\u001b[0m\u001b[0;34m[\u001b[0m\u001b[0;36m1\u001b[0m\u001b[0;34m]\u001b[0m\u001b[0;34m\u001b[0m\u001b[0;34m\u001b[0m\u001b[0m\n\u001b[1;32m    689\u001b[0m         \u001b[0mself\u001b[0m\u001b[0;34m.\u001b[0m\u001b[0m_init_counters\u001b[0m\u001b[0;34m(\u001b[0m\u001b[0mn_classes\u001b[0m\u001b[0;34m,\u001b[0m \u001b[0mn_features\u001b[0m\u001b[0;34m)\u001b[0m\u001b[0;34m\u001b[0m\u001b[0;34m\u001b[0m\u001b[0m\n\u001b[0;32m--> 690\u001b[0;31m         \u001b[0mself\u001b[0m\u001b[0;34m.\u001b[0m\u001b[0m_count\u001b[0m\u001b[0;34m(\u001b[0m\u001b[0mX\u001b[0m\u001b[0;34m,\u001b[0m \u001b[0mY\u001b[0m\u001b[0;34m)\u001b[0m\u001b[0;34m\u001b[0m\u001b[0;34m\u001b[0m\u001b[0m\n\u001b[0m\u001b[1;32m    691\u001b[0m         \u001b[0malpha\u001b[0m \u001b[0;34m=\u001b[0m \u001b[0mself\u001b[0m\u001b[0;34m.\u001b[0m\u001b[0m_check_alpha\u001b[0m\u001b[0;34m(\u001b[0m\u001b[0;34m)\u001b[0m\u001b[0;34m\u001b[0m\u001b[0;34m\u001b[0m\u001b[0m\n\u001b[1;32m    692\u001b[0m         \u001b[0mself\u001b[0m\u001b[0;34m.\u001b[0m\u001b[0m_update_feature_log_prob\u001b[0m\u001b[0;34m(\u001b[0m\u001b[0malpha\u001b[0m\u001b[0;34m)\u001b[0m\u001b[0;34m\u001b[0m\u001b[0;34m\u001b[0m\u001b[0m\n",
            "\u001b[0;32m/usr/local/lib/python3.7/dist-packages/sklearn/naive_bayes.py\u001b[0m in \u001b[0;36m_count\u001b[0;34m(self, X, Y)\u001b[0m\n\u001b[1;32m   1004\u001b[0m     \u001b[0;32mdef\u001b[0m \u001b[0m_count\u001b[0m\u001b[0;34m(\u001b[0m\u001b[0mself\u001b[0m\u001b[0;34m,\u001b[0m \u001b[0mX\u001b[0m\u001b[0;34m,\u001b[0m \u001b[0mY\u001b[0m\u001b[0;34m)\u001b[0m\u001b[0;34m:\u001b[0m\u001b[0;34m\u001b[0m\u001b[0;34m\u001b[0m\u001b[0m\n\u001b[1;32m   1005\u001b[0m         \u001b[0;34m\"\"\"Count feature occurrences.\"\"\"\u001b[0m\u001b[0;34m\u001b[0m\u001b[0;34m\u001b[0m\u001b[0m\n\u001b[0;32m-> 1006\u001b[0;31m         \u001b[0mcheck_non_negative\u001b[0m\u001b[0;34m(\u001b[0m\u001b[0mX\u001b[0m\u001b[0;34m,\u001b[0m \u001b[0;34m\"ComplementNB (input X)\"\u001b[0m\u001b[0;34m)\u001b[0m\u001b[0;34m\u001b[0m\u001b[0;34m\u001b[0m\u001b[0m\n\u001b[0m\u001b[1;32m   1007\u001b[0m         \u001b[0mself\u001b[0m\u001b[0;34m.\u001b[0m\u001b[0mfeature_count_\u001b[0m \u001b[0;34m+=\u001b[0m \u001b[0msafe_sparse_dot\u001b[0m\u001b[0;34m(\u001b[0m\u001b[0mY\u001b[0m\u001b[0;34m.\u001b[0m\u001b[0mT\u001b[0m\u001b[0;34m,\u001b[0m \u001b[0mX\u001b[0m\u001b[0;34m)\u001b[0m\u001b[0;34m\u001b[0m\u001b[0;34m\u001b[0m\u001b[0m\n\u001b[1;32m   1008\u001b[0m         \u001b[0mself\u001b[0m\u001b[0;34m.\u001b[0m\u001b[0mclass_count_\u001b[0m \u001b[0;34m+=\u001b[0m \u001b[0mY\u001b[0m\u001b[0;34m.\u001b[0m\u001b[0msum\u001b[0m\u001b[0;34m(\u001b[0m\u001b[0maxis\u001b[0m\u001b[0;34m=\u001b[0m\u001b[0;36m0\u001b[0m\u001b[0;34m)\u001b[0m\u001b[0;34m\u001b[0m\u001b[0;34m\u001b[0m\u001b[0m\n",
            "\u001b[0;32m/usr/local/lib/python3.7/dist-packages/sklearn/utils/validation.py\u001b[0m in \u001b[0;36mcheck_non_negative\u001b[0;34m(X, whom)\u001b[0m\n\u001b[1;32m   1247\u001b[0m \u001b[0;34m\u001b[0m\u001b[0m\n\u001b[1;32m   1248\u001b[0m     \u001b[0;32mif\u001b[0m \u001b[0mX_min\u001b[0m \u001b[0;34m<\u001b[0m \u001b[0;36m0\u001b[0m\u001b[0;34m:\u001b[0m\u001b[0;34m\u001b[0m\u001b[0;34m\u001b[0m\u001b[0m\n\u001b[0;32m-> 1249\u001b[0;31m         \u001b[0;32mraise\u001b[0m \u001b[0mValueError\u001b[0m\u001b[0;34m(\u001b[0m\u001b[0;34m\"Negative values in data passed to %s\"\u001b[0m \u001b[0;34m%\u001b[0m \u001b[0mwhom\u001b[0m\u001b[0;34m)\u001b[0m\u001b[0;34m\u001b[0m\u001b[0;34m\u001b[0m\u001b[0m\n\u001b[0m\u001b[1;32m   1250\u001b[0m \u001b[0;34m\u001b[0m\u001b[0m\n\u001b[1;32m   1251\u001b[0m \u001b[0;34m\u001b[0m\u001b[0m\n",
            "\u001b[0;31mValueError\u001b[0m: Negative values in data passed to ComplementNB (input X)"
          ]
        }
      ]
    },
    {
      "cell_type": "code",
      "source": [
        "print(set(y_test_pred_Nbg)) #Great! There are values predicted as a no\n",
        "confusion_matrix(y_test, y_test_pred_Nbg)\n"
      ],
      "metadata": {
        "colab": {
          "base_uri": "https://localhost:8080/"
        },
        "id": "4Nj2QXFryXS8",
        "outputId": "c3a7e37d-02c5-4dc1-b4f7-829b202d8602"
      },
      "execution_count": 31,
      "outputs": [
        {
          "output_type": "stream",
          "name": "stdout",
          "text": [
            "{0, 1}\n"
          ]
        },
        {
          "output_type": "execute_result",
          "data": {
            "text/plain": [
              "array([[   391,     13],\n",
              "       [114729,  54914]])"
            ]
          },
          "metadata": {},
          "execution_count": 31
        }
      ]
    },
    {
      "cell_type": "code",
      "source": [
        "%%time \n",
        "# Try with SVC, took around 10 minuts\n",
        "mdlSvc = SVC()\n",
        "mdlSvc.fit(X_train,y_train)\n",
        "y_test_pred_Svc = mdlSvc.predict(X_test)"
      ],
      "metadata": {
        "id": "-U-dAoe_XtLl"
      },
      "execution_count": null,
      "outputs": []
    },
    {
      "cell_type": "markdown",
      "source": [
        "Massive runtime can be attributed to kernel tricks in which the number of parameter increases with number of data points. It seems SVM can't work with too many data points."
      ],
      "metadata": {
        "id": "fIPZBx5G9gxb"
      }
    },
    {
      "cell_type": "code",
      "source": [
        "confusion_matrix(y_test, y_test_pred_Svc) # SVC returns no negatives\n"
      ],
      "metadata": {
        "colab": {
          "base_uri": "https://localhost:8080/"
        },
        "id": "GaDgKJhT4R37",
        "outputId": "33457b97-97be-444f-c590-837cccba797c"
      },
      "execution_count": null,
      "outputs": [
        {
          "output_type": "execute_result",
          "data": {
            "text/plain": [
              "array([[     0,    404],\n",
              "       [     0, 169643]])"
            ]
          },
          "metadata": {},
          "execution_count": 28
        }
      ]
    },
    {
      "cell_type": "code",
      "source": [
        "# Try K Nearest Neighbors far too time consuming, didn't work\n",
        "\n",
        "from sklearn.neighbors import KNeighborsClassifier\n",
        "\n",
        "for i in [5,10,15,20,25]: \n",
        "  mdlKnc = KNeighborsClassifier(n_neighbors=i)\n",
        "  mdlKnc.fit(X_train,y_train)\n",
        "  y_test_pred = mdlKnc.predict(X_test)\n",
        "  print(i, '\\t', roc_auc_score(y_test, y_test_pred))"
      ],
      "metadata": {
        "colab": {
          "base_uri": "https://localhost:8080/",
          "height": 430
        },
        "id": "LkgxYzyG8Wn1",
        "outputId": "6e8f5d33-c4dc-4cd6-a1ea-f39b5b187de2"
      },
      "execution_count": null,
      "outputs": [
        {
          "output_type": "stream",
          "name": "stderr",
          "text": [
            "/usr/local/lib/python3.7/dist-packages/sklearn/neighbors/_classification.py:198: DataConversionWarning: A column-vector y was passed when a 1d array was expected. Please change the shape of y to (n_samples,), for example using ravel().\n",
            "  return self._fit(X, y)\n"
          ]
        },
        {
          "output_type": "error",
          "ename": "KeyboardInterrupt",
          "evalue": "ignored",
          "traceback": [
            "\u001b[0;31m---------------------------------------------------------------------------\u001b[0m",
            "\u001b[0;31mKeyboardInterrupt\u001b[0m                         Traceback (most recent call last)",
            "\u001b[0;32m<ipython-input-29-be89859e6fab>\u001b[0m in \u001b[0;36m<module>\u001b[0;34m()\u001b[0m\n\u001b[1;32m      6\u001b[0m   \u001b[0mmdlKnc\u001b[0m \u001b[0;34m=\u001b[0m \u001b[0mKNeighborsClassifier\u001b[0m\u001b[0;34m(\u001b[0m\u001b[0mn_neighbors\u001b[0m\u001b[0;34m=\u001b[0m\u001b[0mi\u001b[0m\u001b[0;34m)\u001b[0m\u001b[0;34m\u001b[0m\u001b[0;34m\u001b[0m\u001b[0m\n\u001b[1;32m      7\u001b[0m   \u001b[0mmdlKnc\u001b[0m\u001b[0;34m.\u001b[0m\u001b[0mfit\u001b[0m\u001b[0;34m(\u001b[0m\u001b[0mX_train\u001b[0m\u001b[0;34m,\u001b[0m\u001b[0my_train\u001b[0m\u001b[0;34m)\u001b[0m\u001b[0;34m\u001b[0m\u001b[0;34m\u001b[0m\u001b[0m\n\u001b[0;32m----> 8\u001b[0;31m   \u001b[0my_test_pred\u001b[0m \u001b[0;34m=\u001b[0m \u001b[0mmdlKnc\u001b[0m\u001b[0;34m.\u001b[0m\u001b[0mpredict\u001b[0m\u001b[0;34m(\u001b[0m\u001b[0mX_test\u001b[0m\u001b[0;34m)\u001b[0m\u001b[0;34m\u001b[0m\u001b[0;34m\u001b[0m\u001b[0m\n\u001b[0m\u001b[1;32m      9\u001b[0m   \u001b[0mprint\u001b[0m\u001b[0;34m(\u001b[0m\u001b[0mi\u001b[0m\u001b[0;34m,\u001b[0m \u001b[0;34m'\\t'\u001b[0m\u001b[0;34m,\u001b[0m \u001b[0mroc_auc_score\u001b[0m\u001b[0;34m(\u001b[0m\u001b[0my_test\u001b[0m\u001b[0;34m,\u001b[0m \u001b[0my_test_pred\u001b[0m\u001b[0;34m)\u001b[0m\u001b[0;34m)\u001b[0m\u001b[0;34m\u001b[0m\u001b[0;34m\u001b[0m\u001b[0m\n",
            "\u001b[0;32m/usr/local/lib/python3.7/dist-packages/sklearn/neighbors/_classification.py\u001b[0m in \u001b[0;36mpredict\u001b[0;34m(self, X)\u001b[0m\n\u001b[1;32m    212\u001b[0m             \u001b[0mClass\u001b[0m \u001b[0mlabels\u001b[0m \u001b[0;32mfor\u001b[0m \u001b[0meach\u001b[0m \u001b[0mdata\u001b[0m \u001b[0msample\u001b[0m\u001b[0;34m.\u001b[0m\u001b[0;34m\u001b[0m\u001b[0;34m\u001b[0m\u001b[0m\n\u001b[1;32m    213\u001b[0m         \"\"\"\n\u001b[0;32m--> 214\u001b[0;31m         \u001b[0mneigh_dist\u001b[0m\u001b[0;34m,\u001b[0m \u001b[0mneigh_ind\u001b[0m \u001b[0;34m=\u001b[0m \u001b[0mself\u001b[0m\u001b[0;34m.\u001b[0m\u001b[0mkneighbors\u001b[0m\u001b[0;34m(\u001b[0m\u001b[0mX\u001b[0m\u001b[0;34m)\u001b[0m\u001b[0;34m\u001b[0m\u001b[0;34m\u001b[0m\u001b[0m\n\u001b[0m\u001b[1;32m    215\u001b[0m         \u001b[0mclasses_\u001b[0m \u001b[0;34m=\u001b[0m \u001b[0mself\u001b[0m\u001b[0;34m.\u001b[0m\u001b[0mclasses_\u001b[0m\u001b[0;34m\u001b[0m\u001b[0;34m\u001b[0m\u001b[0m\n\u001b[1;32m    216\u001b[0m         \u001b[0m_y\u001b[0m \u001b[0;34m=\u001b[0m \u001b[0mself\u001b[0m\u001b[0;34m.\u001b[0m\u001b[0m_y\u001b[0m\u001b[0;34m\u001b[0m\u001b[0;34m\u001b[0m\u001b[0m\n",
            "\u001b[0;32m/usr/local/lib/python3.7/dist-packages/sklearn/neighbors/_base.py\u001b[0m in \u001b[0;36mkneighbors\u001b[0;34m(self, X, n_neighbors, return_distance)\u001b[0m\n\u001b[1;32m    757\u001b[0m                     \u001b[0mmetric\u001b[0m\u001b[0;34m=\u001b[0m\u001b[0mself\u001b[0m\u001b[0;34m.\u001b[0m\u001b[0meffective_metric_\u001b[0m\u001b[0;34m,\u001b[0m\u001b[0;34m\u001b[0m\u001b[0;34m\u001b[0m\u001b[0m\n\u001b[1;32m    758\u001b[0m                     \u001b[0mn_jobs\u001b[0m\u001b[0;34m=\u001b[0m\u001b[0mn_jobs\u001b[0m\u001b[0;34m,\u001b[0m\u001b[0;34m\u001b[0m\u001b[0;34m\u001b[0m\u001b[0m\n\u001b[0;32m--> 759\u001b[0;31m                     \u001b[0;34m**\u001b[0m\u001b[0mkwds\u001b[0m\u001b[0;34m,\u001b[0m\u001b[0;34m\u001b[0m\u001b[0;34m\u001b[0m\u001b[0m\n\u001b[0m\u001b[1;32m    760\u001b[0m                 )\n\u001b[1;32m    761\u001b[0m             )\n",
            "\u001b[0;32m/usr/local/lib/python3.7/dist-packages/sklearn/metrics/pairwise.py\u001b[0m in \u001b[0;36mpairwise_distances_chunked\u001b[0;34m(X, Y, reduce_func, metric, n_jobs, working_memory, **kwds)\u001b[0m\n\u001b[1;32m   1715\u001b[0m         \u001b[0;32melse\u001b[0m\u001b[0;34m:\u001b[0m\u001b[0;34m\u001b[0m\u001b[0;34m\u001b[0m\u001b[0m\n\u001b[1;32m   1716\u001b[0m             \u001b[0mX_chunk\u001b[0m \u001b[0;34m=\u001b[0m \u001b[0mX\u001b[0m\u001b[0;34m[\u001b[0m\u001b[0msl\u001b[0m\u001b[0;34m]\u001b[0m\u001b[0;34m\u001b[0m\u001b[0;34m\u001b[0m\u001b[0m\n\u001b[0;32m-> 1717\u001b[0;31m         \u001b[0mD_chunk\u001b[0m \u001b[0;34m=\u001b[0m \u001b[0mpairwise_distances\u001b[0m\u001b[0;34m(\u001b[0m\u001b[0mX_chunk\u001b[0m\u001b[0;34m,\u001b[0m \u001b[0mY\u001b[0m\u001b[0;34m,\u001b[0m \u001b[0mmetric\u001b[0m\u001b[0;34m=\u001b[0m\u001b[0mmetric\u001b[0m\u001b[0;34m,\u001b[0m \u001b[0mn_jobs\u001b[0m\u001b[0;34m=\u001b[0m\u001b[0mn_jobs\u001b[0m\u001b[0;34m,\u001b[0m \u001b[0;34m**\u001b[0m\u001b[0mkwds\u001b[0m\u001b[0;34m)\u001b[0m\u001b[0;34m\u001b[0m\u001b[0;34m\u001b[0m\u001b[0m\n\u001b[0m\u001b[1;32m   1718\u001b[0m         if (X is Y or Y is None) and PAIRWISE_DISTANCE_FUNCTIONS.get(\n\u001b[1;32m   1719\u001b[0m             \u001b[0mmetric\u001b[0m\u001b[0;34m,\u001b[0m \u001b[0;32mNone\u001b[0m\u001b[0;34m\u001b[0m\u001b[0;34m\u001b[0m\u001b[0m\n",
            "\u001b[0;32m/usr/local/lib/python3.7/dist-packages/sklearn/metrics/pairwise.py\u001b[0m in \u001b[0;36mpairwise_distances\u001b[0;34m(X, Y, metric, n_jobs, force_all_finite, **kwds)\u001b[0m\n\u001b[1;32m   1887\u001b[0m         \u001b[0mfunc\u001b[0m \u001b[0;34m=\u001b[0m \u001b[0mpartial\u001b[0m\u001b[0;34m(\u001b[0m\u001b[0mdistance\u001b[0m\u001b[0;34m.\u001b[0m\u001b[0mcdist\u001b[0m\u001b[0;34m,\u001b[0m \u001b[0mmetric\u001b[0m\u001b[0;34m=\u001b[0m\u001b[0mmetric\u001b[0m\u001b[0;34m,\u001b[0m \u001b[0;34m**\u001b[0m\u001b[0mkwds\u001b[0m\u001b[0;34m)\u001b[0m\u001b[0;34m\u001b[0m\u001b[0;34m\u001b[0m\u001b[0m\n\u001b[1;32m   1888\u001b[0m \u001b[0;34m\u001b[0m\u001b[0m\n\u001b[0;32m-> 1889\u001b[0;31m     \u001b[0;32mreturn\u001b[0m \u001b[0m_parallel_pairwise\u001b[0m\u001b[0;34m(\u001b[0m\u001b[0mX\u001b[0m\u001b[0;34m,\u001b[0m \u001b[0mY\u001b[0m\u001b[0;34m,\u001b[0m \u001b[0mfunc\u001b[0m\u001b[0;34m,\u001b[0m \u001b[0mn_jobs\u001b[0m\u001b[0;34m,\u001b[0m \u001b[0;34m**\u001b[0m\u001b[0mkwds\u001b[0m\u001b[0;34m)\u001b[0m\u001b[0;34m\u001b[0m\u001b[0;34m\u001b[0m\u001b[0m\n\u001b[0m\u001b[1;32m   1890\u001b[0m \u001b[0;34m\u001b[0m\u001b[0m\n\u001b[1;32m   1891\u001b[0m \u001b[0;34m\u001b[0m\u001b[0m\n",
            "\u001b[0;32m/usr/local/lib/python3.7/dist-packages/sklearn/metrics/pairwise.py\u001b[0m in \u001b[0;36m_parallel_pairwise\u001b[0;34m(X, Y, func, n_jobs, **kwds)\u001b[0m\n\u001b[1;32m   1428\u001b[0m \u001b[0;34m\u001b[0m\u001b[0m\n\u001b[1;32m   1429\u001b[0m     \u001b[0;32mif\u001b[0m \u001b[0meffective_n_jobs\u001b[0m\u001b[0;34m(\u001b[0m\u001b[0mn_jobs\u001b[0m\u001b[0;34m)\u001b[0m \u001b[0;34m==\u001b[0m \u001b[0;36m1\u001b[0m\u001b[0;34m:\u001b[0m\u001b[0;34m\u001b[0m\u001b[0;34m\u001b[0m\u001b[0m\n\u001b[0;32m-> 1430\u001b[0;31m         \u001b[0;32mreturn\u001b[0m \u001b[0mfunc\u001b[0m\u001b[0;34m(\u001b[0m\u001b[0mX\u001b[0m\u001b[0;34m,\u001b[0m \u001b[0mY\u001b[0m\u001b[0;34m,\u001b[0m \u001b[0;34m**\u001b[0m\u001b[0mkwds\u001b[0m\u001b[0;34m)\u001b[0m\u001b[0;34m\u001b[0m\u001b[0;34m\u001b[0m\u001b[0m\n\u001b[0m\u001b[1;32m   1431\u001b[0m \u001b[0;34m\u001b[0m\u001b[0m\n\u001b[1;32m   1432\u001b[0m     \u001b[0;31m# enforce a threading backend to prevent data communication overhead\u001b[0m\u001b[0;34m\u001b[0m\u001b[0;34m\u001b[0m\u001b[0;34m\u001b[0m\u001b[0m\n",
            "\u001b[0;32m/usr/local/lib/python3.7/dist-packages/sklearn/metrics/pairwise.py\u001b[0m in \u001b[0;36meuclidean_distances\u001b[0;34m(X, Y, Y_norm_squared, squared, X_norm_squared)\u001b[0m\n\u001b[1;32m    328\u001b[0m             )\n\u001b[1;32m    329\u001b[0m \u001b[0;34m\u001b[0m\u001b[0m\n\u001b[0;32m--> 330\u001b[0;31m     \u001b[0;32mreturn\u001b[0m \u001b[0m_euclidean_distances\u001b[0m\u001b[0;34m(\u001b[0m\u001b[0mX\u001b[0m\u001b[0;34m,\u001b[0m \u001b[0mY\u001b[0m\u001b[0;34m,\u001b[0m \u001b[0mX_norm_squared\u001b[0m\u001b[0;34m,\u001b[0m \u001b[0mY_norm_squared\u001b[0m\u001b[0;34m,\u001b[0m \u001b[0msquared\u001b[0m\u001b[0;34m)\u001b[0m\u001b[0;34m\u001b[0m\u001b[0;34m\u001b[0m\u001b[0m\n\u001b[0m\u001b[1;32m    331\u001b[0m \u001b[0;34m\u001b[0m\u001b[0m\n\u001b[1;32m    332\u001b[0m \u001b[0;34m\u001b[0m\u001b[0m\n",
            "\u001b[0;32m/usr/local/lib/python3.7/dist-packages/sklearn/metrics/pairwise.py\u001b[0m in \u001b[0;36m_euclidean_distances\u001b[0;34m(X, Y, X_norm_squared, Y_norm_squared, squared)\u001b[0m\n\u001b[1;32m    370\u001b[0m         \u001b[0;31m# if dtype is already float64, no need to chunk and upcast\u001b[0m\u001b[0;34m\u001b[0m\u001b[0;34m\u001b[0m\u001b[0;34m\u001b[0m\u001b[0m\n\u001b[1;32m    371\u001b[0m         \u001b[0mdistances\u001b[0m \u001b[0;34m=\u001b[0m \u001b[0;34m-\u001b[0m\u001b[0;36m2\u001b[0m \u001b[0;34m*\u001b[0m \u001b[0msafe_sparse_dot\u001b[0m\u001b[0;34m(\u001b[0m\u001b[0mX\u001b[0m\u001b[0;34m,\u001b[0m \u001b[0mY\u001b[0m\u001b[0;34m.\u001b[0m\u001b[0mT\u001b[0m\u001b[0;34m,\u001b[0m \u001b[0mdense_output\u001b[0m\u001b[0;34m=\u001b[0m\u001b[0;32mTrue\u001b[0m\u001b[0;34m)\u001b[0m\u001b[0;34m\u001b[0m\u001b[0;34m\u001b[0m\u001b[0m\n\u001b[0;32m--> 372\u001b[0;31m         \u001b[0mdistances\u001b[0m \u001b[0;34m+=\u001b[0m \u001b[0mXX\u001b[0m\u001b[0;34m\u001b[0m\u001b[0;34m\u001b[0m\u001b[0m\n\u001b[0m\u001b[1;32m    373\u001b[0m         \u001b[0mdistances\u001b[0m \u001b[0;34m+=\u001b[0m \u001b[0mYY\u001b[0m\u001b[0;34m\u001b[0m\u001b[0;34m\u001b[0m\u001b[0m\n\u001b[1;32m    374\u001b[0m     \u001b[0mnp\u001b[0m\u001b[0;34m.\u001b[0m\u001b[0mmaximum\u001b[0m\u001b[0;34m(\u001b[0m\u001b[0mdistances\u001b[0m\u001b[0;34m,\u001b[0m \u001b[0;36m0\u001b[0m\u001b[0;34m,\u001b[0m \u001b[0mout\u001b[0m\u001b[0;34m=\u001b[0m\u001b[0mdistances\u001b[0m\u001b[0;34m)\u001b[0m\u001b[0;34m\u001b[0m\u001b[0;34m\u001b[0m\u001b[0m\n",
            "\u001b[0;31mKeyboardInterrupt\u001b[0m: "
          ]
        }
      ]
    },
    {
      "cell_type": "code",
      "source": [
        "# Out of many options, t seems the only feasible one in terms of run time and acceptable results \n",
        "# is a Gaussian Naive Bayes classifier.\n",
        "\n",
        "# To further test it, cross-validation can be done with the scoring parameter set to roc_auc\n",
        "print('roc_auc cross validation')\n",
        "print(cross_val_score(mdlNbg,X_hot,y, cv = 5, scoring = 'roc_auc'))\n",
        "\n",
        "print('\\n')\n",
        "\n",
        "print(cross_val_score(mdlNbg,X_hot,y, cv = 5, scoring = 'precision'))\n",
        "\n",
        "\n",
        "\n",
        "\n"
      ],
      "metadata": {
        "colab": {
          "base_uri": "https://localhost:8080/"
        },
        "id": "KaUD42ck-NDo",
        "outputId": "962e3c7b-b1dc-4b4d-c0ab-ab0405574b9e"
      },
      "execution_count": 34,
      "outputs": [
        {
          "output_type": "stream",
          "name": "stdout",
          "text": [
            "roc_auc cross validation\n"
          ]
        },
        {
          "output_type": "stream",
          "name": "stderr",
          "text": [
            "/usr/local/lib/python3.7/dist-packages/sklearn/utils/validation.py:993: DataConversionWarning: A column-vector y was passed when a 1d array was expected. Please change the shape of y to (n_samples, ), for example using ravel().\n",
            "  y = column_or_1d(y, warn=True)\n",
            "/usr/local/lib/python3.7/dist-packages/sklearn/utils/validation.py:993: DataConversionWarning: A column-vector y was passed when a 1d array was expected. Please change the shape of y to (n_samples, ), for example using ravel().\n",
            "  y = column_or_1d(y, warn=True)\n",
            "/usr/local/lib/python3.7/dist-packages/sklearn/utils/validation.py:993: DataConversionWarning: A column-vector y was passed when a 1d array was expected. Please change the shape of y to (n_samples, ), for example using ravel().\n",
            "  y = column_or_1d(y, warn=True)\n",
            "/usr/local/lib/python3.7/dist-packages/sklearn/utils/validation.py:993: DataConversionWarning: A column-vector y was passed when a 1d array was expected. Please change the shape of y to (n_samples, ), for example using ravel().\n",
            "  y = column_or_1d(y, warn=True)\n",
            "/usr/local/lib/python3.7/dist-packages/sklearn/utils/validation.py:993: DataConversionWarning: A column-vector y was passed when a 1d array was expected. Please change the shape of y to (n_samples, ), for example using ravel().\n",
            "  y = column_or_1d(y, warn=True)\n"
          ]
        },
        {
          "output_type": "stream",
          "name": "stdout",
          "text": [
            "[0.70597866 0.88932566 0.8813011  0.86736558 0.84238423]\n",
            "\n",
            "\n"
          ]
        },
        {
          "output_type": "stream",
          "name": "stderr",
          "text": [
            "/usr/local/lib/python3.7/dist-packages/sklearn/utils/validation.py:993: DataConversionWarning: A column-vector y was passed when a 1d array was expected. Please change the shape of y to (n_samples, ), for example using ravel().\n",
            "  y = column_or_1d(y, warn=True)\n",
            "/usr/local/lib/python3.7/dist-packages/sklearn/utils/validation.py:993: DataConversionWarning: A column-vector y was passed when a 1d array was expected. Please change the shape of y to (n_samples, ), for example using ravel().\n",
            "  y = column_or_1d(y, warn=True)\n",
            "/usr/local/lib/python3.7/dist-packages/sklearn/utils/validation.py:993: DataConversionWarning: A column-vector y was passed when a 1d array was expected. Please change the shape of y to (n_samples, ), for example using ravel().\n",
            "  y = column_or_1d(y, warn=True)\n",
            "/usr/local/lib/python3.7/dist-packages/sklearn/utils/validation.py:993: DataConversionWarning: A column-vector y was passed when a 1d array was expected. Please change the shape of y to (n_samples, ), for example using ravel().\n",
            "  y = column_or_1d(y, warn=True)\n",
            "/usr/local/lib/python3.7/dist-packages/sklearn/utils/validation.py:993: DataConversionWarning: A column-vector y was passed when a 1d array was expected. Please change the shape of y to (n_samples, ), for example using ravel().\n",
            "  y = column_or_1d(y, warn=True)\n"
          ]
        },
        {
          "output_type": "stream",
          "name": "stdout",
          "text": [
            "[0.99965156 0.9996569  0.99962301 0.99981398 0.99967339]\n"
          ]
        }
      ]
    },
    {
      "cell_type": "markdown",
      "source": [
        "The roc_auc cross validation scores seem to show that a gaussian NB seems to work with the data, with the lowest roc_auc at 0.706 and the highest at 0.889.\n",
        "The values are well above the worst case of 0.5\n",
        "\n",
        "These results are also supplemented by the high precision scores at 0.999 roughly for all of them.\n",
        "\n",
        "Therefore, one can moderately predict if a new 311 correspondence will be resolved or not if assumptions about feature independence hold true, does not account for time, and looks into all service request methods.\n"
      ],
      "metadata": {
        "id": "nw24iZjfDvYp"
      }
    },
    {
      "cell_type": "markdown",
      "source": [
        "***Regression for Mean Time To Resolution***"
      ],
      "metadata": {
        "id": "J0Md-6HhDiKd"
      }
    },
    {
      "cell_type": "code",
      "source": [
        "df2_target_1 = df2_full.drop(df2_full[df2_full['SR Status'] == 0].index) # remove cases not resolved nor closed\n",
        "delta_t = df2_target_1['Closed Date'] - df2_target_1['Created Date'] # time to resolve\n",
        "df2_target_1['delta_t days'] = delta_t.dt.days # add delta_t column\n",
        "df2_target_1 = df2_target_1.drop(df2_target_1[df2_target_1['delta_t days'] < 0].index) # remove negative time cases\n",
        "\n",
        "\n",
        "\n",
        "df2_target_1.describe(include = 'all')\n"
      ],
      "metadata": {
        "colab": {
          "base_uri": "https://localhost:8080/",
          "height": 644
        },
        "id": "6zyWiUp588WJ",
        "outputId": "3b665133-0e99-4194-bccf-bea6d2d018e0"
      },
      "execution_count": 35,
      "outputs": [
        {
          "output_type": "stream",
          "name": "stderr",
          "text": [
            "/usr/local/lib/python3.7/dist-packages/ipykernel_launcher.py:8: FutureWarning: Treating datetime data as categorical rather than numeric in `.describe` is deprecated and will be removed in a future version of pandas. Specify `datetime_is_numeric=True` to silence this warning and adopt the future behavior now.\n",
            "  \n"
          ]
        },
        {
          "output_type": "execute_result",
          "data": {
            "text/html": [
              "\n",
              "  <div id=\"df-a06b733d-6fd4-4d1c-820c-b528b337932b\">\n",
              "    <div class=\"colab-df-container\">\n",
              "      <div>\n",
              "<style scoped>\n",
              "    .dataframe tbody tr th:only-of-type {\n",
              "        vertical-align: middle;\n",
              "    }\n",
              "\n",
              "    .dataframe tbody tr th {\n",
              "        vertical-align: top;\n",
              "    }\n",
              "\n",
              "    .dataframe thead th {\n",
              "        text-align: right;\n",
              "    }\n",
              "</style>\n",
              "<table border=\"1\" class=\"dataframe\">\n",
              "  <thead>\n",
              "    <tr style=\"text-align: right;\">\n",
              "      <th></th>\n",
              "      <th>SR Description</th>\n",
              "      <th>Method Received</th>\n",
              "      <th>SR Status</th>\n",
              "      <th>Street Name</th>\n",
              "      <th>City</th>\n",
              "      <th>Zip Code</th>\n",
              "      <th>County</th>\n",
              "      <th>Latitude Coordinate</th>\n",
              "      <th>Longitude Coordinate</th>\n",
              "      <th>Council District</th>\n",
              "      <th>Created Date</th>\n",
              "      <th>Closed Date</th>\n",
              "      <th>delta_t days</th>\n",
              "    </tr>\n",
              "  </thead>\n",
              "  <tbody>\n",
              "    <tr>\n",
              "      <th>count</th>\n",
              "      <td>803193</td>\n",
              "      <td>803193</td>\n",
              "      <td>803193.0</td>\n",
              "      <td>803193</td>\n",
              "      <td>803193</td>\n",
              "      <td>803193.0</td>\n",
              "      <td>803193</td>\n",
              "      <td>803193.000000</td>\n",
              "      <td>803193.000000</td>\n",
              "      <td>803193.000000</td>\n",
              "      <td>803193</td>\n",
              "      <td>803193</td>\n",
              "      <td>803193.000000</td>\n",
              "    </tr>\n",
              "    <tr>\n",
              "      <th>unique</th>\n",
              "      <td>140</td>\n",
              "      <td>17</td>\n",
              "      <td>NaN</td>\n",
              "      <td>30328</td>\n",
              "      <td>19</td>\n",
              "      <td>52.0</td>\n",
              "      <td>3</td>\n",
              "      <td>NaN</td>\n",
              "      <td>NaN</td>\n",
              "      <td>NaN</td>\n",
              "      <td>796632</td>\n",
              "      <td>750899</td>\n",
              "      <td>NaN</td>\n",
              "    </tr>\n",
              "    <tr>\n",
              "      <th>top</th>\n",
              "      <td>Austin Code - Request Code Officer</td>\n",
              "      <td>Phone</td>\n",
              "      <td>NaN</td>\n",
              "      <td>LAMAR</td>\n",
              "      <td>austin</td>\n",
              "      <td>78704.0</td>\n",
              "      <td>TRAVIS</td>\n",
              "      <td>NaN</td>\n",
              "      <td>NaN</td>\n",
              "      <td>NaN</td>\n",
              "      <td>2015-02-18 12:00:00</td>\n",
              "      <td>2016-04-18 04:33:33</td>\n",
              "      <td>NaN</td>\n",
              "    </tr>\n",
              "    <tr>\n",
              "      <th>freq</th>\n",
              "      <td>152471</td>\n",
              "      <td>641827</td>\n",
              "      <td>NaN</td>\n",
              "      <td>10997</td>\n",
              "      <td>800180</td>\n",
              "      <td>59283.0</td>\n",
              "      <td>779540</td>\n",
              "      <td>NaN</td>\n",
              "      <td>NaN</td>\n",
              "      <td>NaN</td>\n",
              "      <td>27</td>\n",
              "      <td>293</td>\n",
              "      <td>NaN</td>\n",
              "    </tr>\n",
              "    <tr>\n",
              "      <th>first</th>\n",
              "      <td>NaN</td>\n",
              "      <td>NaN</td>\n",
              "      <td>NaN</td>\n",
              "      <td>NaN</td>\n",
              "      <td>NaN</td>\n",
              "      <td>NaN</td>\n",
              "      <td>NaN</td>\n",
              "      <td>NaN</td>\n",
              "      <td>NaN</td>\n",
              "      <td>NaN</td>\n",
              "      <td>2015-01-01 01:04:02</td>\n",
              "      <td>2015-01-01 01:04:02</td>\n",
              "      <td>NaN</td>\n",
              "    </tr>\n",
              "    <tr>\n",
              "      <th>last</th>\n",
              "      <td>NaN</td>\n",
              "      <td>NaN</td>\n",
              "      <td>NaN</td>\n",
              "      <td>NaN</td>\n",
              "      <td>NaN</td>\n",
              "      <td>NaN</td>\n",
              "      <td>NaN</td>\n",
              "      <td>NaN</td>\n",
              "      <td>NaN</td>\n",
              "      <td>NaN</td>\n",
              "      <td>2021-02-28 12:59:44</td>\n",
              "      <td>2021-03-02 12:06:32</td>\n",
              "      <td>NaN</td>\n",
              "    </tr>\n",
              "    <tr>\n",
              "      <th>mean</th>\n",
              "      <td>NaN</td>\n",
              "      <td>NaN</td>\n",
              "      <td>1.0</td>\n",
              "      <td>NaN</td>\n",
              "      <td>NaN</td>\n",
              "      <td>NaN</td>\n",
              "      <td>NaN</td>\n",
              "      <td>30.280938</td>\n",
              "      <td>-97.747110</td>\n",
              "      <td>5.509612</td>\n",
              "      <td>NaN</td>\n",
              "      <td>NaN</td>\n",
              "      <td>34.362720</td>\n",
              "    </tr>\n",
              "    <tr>\n",
              "      <th>std</th>\n",
              "      <td>NaN</td>\n",
              "      <td>NaN</td>\n",
              "      <td>0.0</td>\n",
              "      <td>NaN</td>\n",
              "      <td>NaN</td>\n",
              "      <td>NaN</td>\n",
              "      <td>NaN</td>\n",
              "      <td>0.465397</td>\n",
              "      <td>0.150844</td>\n",
              "      <td>3.025994</td>\n",
              "      <td>NaN</td>\n",
              "      <td>NaN</td>\n",
              "      <td>111.295925</td>\n",
              "    </tr>\n",
              "    <tr>\n",
              "      <th>min</th>\n",
              "      <td>NaN</td>\n",
              "      <td>NaN</td>\n",
              "      <td>1.0</td>\n",
              "      <td>NaN</td>\n",
              "      <td>NaN</td>\n",
              "      <td>NaN</td>\n",
              "      <td>NaN</td>\n",
              "      <td>3.442387</td>\n",
              "      <td>-105.983195</td>\n",
              "      <td>1.000000</td>\n",
              "      <td>NaN</td>\n",
              "      <td>NaN</td>\n",
              "      <td>0.000000</td>\n",
              "    </tr>\n",
              "    <tr>\n",
              "      <th>25%</th>\n",
              "      <td>NaN</td>\n",
              "      <td>NaN</td>\n",
              "      <td>1.0</td>\n",
              "      <td>NaN</td>\n",
              "      <td>NaN</td>\n",
              "      <td>NaN</td>\n",
              "      <td>NaN</td>\n",
              "      <td>30.232898</td>\n",
              "      <td>-97.772058</td>\n",
              "      <td>3.000000</td>\n",
              "      <td>NaN</td>\n",
              "      <td>NaN</td>\n",
              "      <td>0.000000</td>\n",
              "    </tr>\n",
              "    <tr>\n",
              "      <th>50%</th>\n",
              "      <td>NaN</td>\n",
              "      <td>NaN</td>\n",
              "      <td>1.0</td>\n",
              "      <td>NaN</td>\n",
              "      <td>NaN</td>\n",
              "      <td>NaN</td>\n",
              "      <td>NaN</td>\n",
              "      <td>30.278354</td>\n",
              "      <td>-97.741797</td>\n",
              "      <td>5.000000</td>\n",
              "      <td>NaN</td>\n",
              "      <td>NaN</td>\n",
              "      <td>1.000000</td>\n",
              "    </tr>\n",
              "    <tr>\n",
              "      <th>75%</th>\n",
              "      <td>NaN</td>\n",
              "      <td>NaN</td>\n",
              "      <td>1.0</td>\n",
              "      <td>NaN</td>\n",
              "      <td>NaN</td>\n",
              "      <td>NaN</td>\n",
              "      <td>NaN</td>\n",
              "      <td>30.342346</td>\n",
              "      <td>-97.708236</td>\n",
              "      <td>9.000000</td>\n",
              "      <td>NaN</td>\n",
              "      <td>NaN</td>\n",
              "      <td>5.000000</td>\n",
              "    </tr>\n",
              "    <tr>\n",
              "      <th>max</th>\n",
              "      <td>NaN</td>\n",
              "      <td>NaN</td>\n",
              "      <td>1.0</td>\n",
              "      <td>NaN</td>\n",
              "      <td>NaN</td>\n",
              "      <td>NaN</td>\n",
              "      <td>NaN</td>\n",
              "      <td>30.567863</td>\n",
              "      <td>-97.508821</td>\n",
              "      <td>10.000000</td>\n",
              "      <td>NaN</td>\n",
              "      <td>NaN</td>\n",
              "      <td>2169.000000</td>\n",
              "    </tr>\n",
              "  </tbody>\n",
              "</table>\n",
              "</div>\n",
              "      <button class=\"colab-df-convert\" onclick=\"convertToInteractive('df-a06b733d-6fd4-4d1c-820c-b528b337932b')\"\n",
              "              title=\"Convert this dataframe to an interactive table.\"\n",
              "              style=\"display:none;\">\n",
              "        \n",
              "  <svg xmlns=\"http://www.w3.org/2000/svg\" height=\"24px\"viewBox=\"0 0 24 24\"\n",
              "       width=\"24px\">\n",
              "    <path d=\"M0 0h24v24H0V0z\" fill=\"none\"/>\n",
              "    <path d=\"M18.56 5.44l.94 2.06.94-2.06 2.06-.94-2.06-.94-.94-2.06-.94 2.06-2.06.94zm-11 1L8.5 8.5l.94-2.06 2.06-.94-2.06-.94L8.5 2.5l-.94 2.06-2.06.94zm10 10l.94 2.06.94-2.06 2.06-.94-2.06-.94-.94-2.06-.94 2.06-2.06.94z\"/><path d=\"M17.41 7.96l-1.37-1.37c-.4-.4-.92-.59-1.43-.59-.52 0-1.04.2-1.43.59L10.3 9.45l-7.72 7.72c-.78.78-.78 2.05 0 2.83L4 21.41c.39.39.9.59 1.41.59.51 0 1.02-.2 1.41-.59l7.78-7.78 2.81-2.81c.8-.78.8-2.07 0-2.86zM5.41 20L4 18.59l7.72-7.72 1.47 1.35L5.41 20z\"/>\n",
              "  </svg>\n",
              "      </button>\n",
              "      \n",
              "  <style>\n",
              "    .colab-df-container {\n",
              "      display:flex;\n",
              "      flex-wrap:wrap;\n",
              "      gap: 12px;\n",
              "    }\n",
              "\n",
              "    .colab-df-convert {\n",
              "      background-color: #E8F0FE;\n",
              "      border: none;\n",
              "      border-radius: 50%;\n",
              "      cursor: pointer;\n",
              "      display: none;\n",
              "      fill: #1967D2;\n",
              "      height: 32px;\n",
              "      padding: 0 0 0 0;\n",
              "      width: 32px;\n",
              "    }\n",
              "\n",
              "    .colab-df-convert:hover {\n",
              "      background-color: #E2EBFA;\n",
              "      box-shadow: 0px 1px 2px rgba(60, 64, 67, 0.3), 0px 1px 3px 1px rgba(60, 64, 67, 0.15);\n",
              "      fill: #174EA6;\n",
              "    }\n",
              "\n",
              "    [theme=dark] .colab-df-convert {\n",
              "      background-color: #3B4455;\n",
              "      fill: #D2E3FC;\n",
              "    }\n",
              "\n",
              "    [theme=dark] .colab-df-convert:hover {\n",
              "      background-color: #434B5C;\n",
              "      box-shadow: 0px 1px 3px 1px rgba(0, 0, 0, 0.15);\n",
              "      filter: drop-shadow(0px 1px 2px rgba(0, 0, 0, 0.3));\n",
              "      fill: #FFFFFF;\n",
              "    }\n",
              "  </style>\n",
              "\n",
              "      <script>\n",
              "        const buttonEl =\n",
              "          document.querySelector('#df-a06b733d-6fd4-4d1c-820c-b528b337932b button.colab-df-convert');\n",
              "        buttonEl.style.display =\n",
              "          google.colab.kernel.accessAllowed ? 'block' : 'none';\n",
              "\n",
              "        async function convertToInteractive(key) {\n",
              "          const element = document.querySelector('#df-a06b733d-6fd4-4d1c-820c-b528b337932b');\n",
              "          const dataTable =\n",
              "            await google.colab.kernel.invokeFunction('convertToInteractive',\n",
              "                                                     [key], {});\n",
              "          if (!dataTable) return;\n",
              "\n",
              "          const docLinkHtml = 'Like what you see? Visit the ' +\n",
              "            '<a target=\"_blank\" href=https://colab.research.google.com/notebooks/data_table.ipynb>data table notebook</a>'\n",
              "            + ' to learn more about interactive tables.';\n",
              "          element.innerHTML = '';\n",
              "          dataTable['output_type'] = 'display_data';\n",
              "          await google.colab.output.renderOutput(dataTable, element);\n",
              "          const docLink = document.createElement('div');\n",
              "          docLink.innerHTML = docLinkHtml;\n",
              "          element.appendChild(docLink);\n",
              "        }\n",
              "      </script>\n",
              "    </div>\n",
              "  </div>\n",
              "  "
            ],
            "text/plain": [
              "                            SR Description Method Received  SR Status  \\\n",
              "count                               803193          803193   803193.0   \n",
              "unique                                 140              17        NaN   \n",
              "top     Austin Code - Request Code Officer           Phone        NaN   \n",
              "freq                                152471          641827        NaN   \n",
              "first                                  NaN             NaN        NaN   \n",
              "last                                   NaN             NaN        NaN   \n",
              "mean                                   NaN             NaN        1.0   \n",
              "std                                    NaN             NaN        0.0   \n",
              "min                                    NaN             NaN        1.0   \n",
              "25%                                    NaN             NaN        1.0   \n",
              "50%                                    NaN             NaN        1.0   \n",
              "75%                                    NaN             NaN        1.0   \n",
              "max                                    NaN             NaN        1.0   \n",
              "\n",
              "       Street Name    City  Zip Code  County  Latitude Coordinate  \\\n",
              "count       803193  803193  803193.0  803193        803193.000000   \n",
              "unique       30328      19      52.0       3                  NaN   \n",
              "top          LAMAR  austin   78704.0  TRAVIS                  NaN   \n",
              "freq         10997  800180   59283.0  779540                  NaN   \n",
              "first          NaN     NaN       NaN     NaN                  NaN   \n",
              "last           NaN     NaN       NaN     NaN                  NaN   \n",
              "mean           NaN     NaN       NaN     NaN            30.280938   \n",
              "std            NaN     NaN       NaN     NaN             0.465397   \n",
              "min            NaN     NaN       NaN     NaN             3.442387   \n",
              "25%            NaN     NaN       NaN     NaN            30.232898   \n",
              "50%            NaN     NaN       NaN     NaN            30.278354   \n",
              "75%            NaN     NaN       NaN     NaN            30.342346   \n",
              "max            NaN     NaN       NaN     NaN            30.567863   \n",
              "\n",
              "        Longitude Coordinate  Council District         Created Date  \\\n",
              "count          803193.000000     803193.000000               803193   \n",
              "unique                   NaN               NaN               796632   \n",
              "top                      NaN               NaN  2015-02-18 12:00:00   \n",
              "freq                     NaN               NaN                   27   \n",
              "first                    NaN               NaN  2015-01-01 01:04:02   \n",
              "last                     NaN               NaN  2021-02-28 12:59:44   \n",
              "mean              -97.747110          5.509612                  NaN   \n",
              "std                 0.150844          3.025994                  NaN   \n",
              "min              -105.983195          1.000000                  NaN   \n",
              "25%               -97.772058          3.000000                  NaN   \n",
              "50%               -97.741797          5.000000                  NaN   \n",
              "75%               -97.708236          9.000000                  NaN   \n",
              "max               -97.508821         10.000000                  NaN   \n",
              "\n",
              "                Closed Date   delta_t days  \n",
              "count                803193  803193.000000  \n",
              "unique               750899            NaN  \n",
              "top     2016-04-18 04:33:33            NaN  \n",
              "freq                    293            NaN  \n",
              "first   2015-01-01 01:04:02            NaN  \n",
              "last    2021-03-02 12:06:32            NaN  \n",
              "mean                    NaN      34.362720  \n",
              "std                     NaN     111.295925  \n",
              "min                     NaN       0.000000  \n",
              "25%                     NaN       0.000000  \n",
              "50%                     NaN       1.000000  \n",
              "75%                     NaN       5.000000  \n",
              "max                     NaN    2169.000000  "
            ]
          },
          "metadata": {},
          "execution_count": 35
        }
      ]
    },
    {
      "cell_type": "code",
      "source": [
        "X_reg = df2_target_1.loc[:,['SR Description', 'Method Received', 'City', 'Zip Code','Latitude Coordinate','Longitude Coordinate']]\n",
        "y_reg = df2_target_1.loc[:,['delta_t days']]\n",
        "\n",
        "cols_obj = [col for col in X_reg.columns if X_reg[col].dtype in ['object']]\n",
        "\n",
        "\n",
        "# even though Zip Code is numerical and expressed as an integer, it is categorical\n",
        "# in nature.\n",
        "X_hot_reg = pd.get_dummies(X_reg, cols_obj) \n",
        "\n",
        "\n",
        "\n",
        "\n"
      ],
      "metadata": {
        "id": "ZIkIADn293Yp"
      },
      "execution_count": 36,
      "outputs": []
    },
    {
      "cell_type": "code",
      "source": [
        "X_train2, X_test2, y_train2, y_test2 = train_test_split(X_hot_reg,y_reg,test_size=0.2, random_state=1) # 80 % train, 20% test. \n"
      ],
      "metadata": {
        "id": "uuIpaeKhLzte"
      },
      "execution_count": 37,
      "outputs": []
    },
    {
      "cell_type": "markdown",
      "source": [
        "Cannot Assume a linear relationship, try a decision tree, then random forest or gradient boosted trees.\n"
      ],
      "metadata": {
        "id": "z5YAc17zMEu_"
      }
    },
    {
      "cell_type": "code",
      "source": [
        "from sklearn.tree import DecisionTreeRegressor\n",
        "\n",
        "\n",
        "def getdecision_tree(X_trn, X_tst, y_trn, y_tst, mx_lf_nds):\n",
        "  model_tree = DecisionTreeRegressor(max_leaf_nodes=mx_lf_nds,random_state=1)\n",
        "  model_tree.fit(X_trn, y_trn)\n",
        "  y_tst_prd = model_tree.predict(X_tst)\n",
        "  mae_percent = mean_absolute_percentage_error(y_tst, y_tst_prd)\n",
        "  return y_tst_prd, mae_percent # return as a tuple"
      ],
      "metadata": {
        "id": "NS4Z3j00Qxll"
      },
      "execution_count": 38,
      "outputs": []
    },
    {
      "cell_type": "code",
      "source": [
        "output_tree = getdecision_tree(X_train2,X_test2,y_train2,y_test2, 10)\n",
        "print('prediction: ', output_tree[0].mean(), '', end = ' ')\n",
        "print('mae_percent: ', output_tree[1].mean())"
      ],
      "metadata": {
        "colab": {
          "base_uri": "https://localhost:8080/"
        },
        "id": "Ruv7MGp4QzNM",
        "outputId": "c3e43654-b985-44f4-f645-db16927ebc86"
      },
      "execution_count": 39,
      "outputs": [
        {
          "output_type": "stream",
          "name": "stdout",
          "text": [
            "prediction:  34.43161468121506  mae_percent:  4.565496599882282e+16\n"
          ]
        }
      ]
    },
    {
      "cell_type": "code",
      "source": [
        "from sklearn.ensemble import RandomForestRegressor\n",
        "\n",
        "def get_random_forest(X_trn,X_tst, y_trn,y_tst, mx_lf_nds):\n",
        "  model_forest= RandomForestRegressor(max_leaf_nodes = mx_lf_nds, random_state=1)\n",
        "  model_forest.fit(X_trn,y_trn)\n",
        "  y_tst_prd = model_forest.predict(X_tst)\n",
        "  mae_percent = mean_absolute_percentage_error(y_tst,y_tst_prd)\n",
        "  return y_tst_prd, mae_percent "
      ],
      "metadata": {
        "id": "7aaXSYLVRD9N"
      },
      "execution_count": 40,
      "outputs": []
    },
    {
      "cell_type": "code",
      "source": [
        "output_forest = getdecision_tree(X_train2,X_test2,y_train2,y_test2, 10)\n",
        "print('prediction: ', output_tree[0].mean(), '', end = ' ')\n",
        "print('mae_percent: ', output_tree[1])\n"
      ],
      "metadata": {
        "colab": {
          "base_uri": "https://localhost:8080/"
        },
        "id": "6ZKRWNHfSNBZ",
        "outputId": "39300f77-e5b4-4c9f-e7c9-c6892c9c1247"
      },
      "execution_count": 41,
      "outputs": [
        {
          "output_type": "stream",
          "name": "stdout",
          "text": [
            "prediction:  34.43161468121506  mae_percent:  4.565496599882282e+16\n"
          ]
        }
      ]
    },
    {
      "cell_type": "code",
      "source": [
        "# It is quite difficult explaining the source of the high mean absolute error, howvever for both cases, the mean of the prediction is similat\n",
        "# to the dataframe's mean in days. The percentage error is far too high to be a realistic value."
      ],
      "metadata": {
        "id": "BXL2npq1UyAb"
      },
      "execution_count": null,
      "outputs": []
    },
    {
      "cell_type": "code",
      "source": [
        "from xgboost import XGBRegressor # Gradient boosted trees, too computationally intense.\n",
        "\n",
        "mdlXgb = XGBRegressor()\n",
        "mdlXgb.fit(X_train2, y_train2)\n",
        "y_test_pred = mdlXgb.predict(X_test2)\n",
        "mae = mean_absolute_percentage_error(y_train2, y_test2)\n",
        "\n",
        "print('MAE % for Gradient Boosted Trees: ', mae)"
      ],
      "metadata": {
        "id": "PC18tf8RY0oX"
      },
      "execution_count": null,
      "outputs": []
    },
    {
      "cell_type": "code",
      "source": [
        "# For now, use the output from the decision tree for cross validation\n",
        "model_forest= RandomForestRegressor(max_leaf_nodes = 10, random_state=1)\n",
        "print('MAE cross-val')\n",
        "print('\\n')\n",
        "print(cross_val_score(model_forest,X_hot_reg,y_reg, cv = 5, scoring = 'neg_mean_absolute_error'))\n",
        "print('\\n')\n",
        "\n",
        "\n",
        "print(cross_val_score(model_forest,X_hot_reg,y_reg, cv = 5, scoring = 'r2'))\n",
        "\n",
        "\n"
      ],
      "metadata": {
        "id": "6Ysc_uHUZX4c"
      },
      "execution_count": null,
      "outputs": []
    },
    {
      "cell_type": "markdown",
      "source": [
        "Part 3- Additional insights"
      ],
      "metadata": {
        "id": "pDKdQ-i8Y7GD"
      }
    },
    {
      "cell_type": "markdown",
      "source": [
        "It would be interesting looking at the top 30 cities names have the most 311 correspondences. The same can be said for street names.\n",
        "\n",
        "Looking at the most common type of complaint can also be informative."
      ],
      "metadata": {
        "id": "jIanI2VsZf2K"
      }
    },
    {
      "cell_type": "code",
      "source": [
        "# Use df2_target_1\n",
        "(df2_target_1['City'].value_counts()).head(30).plot(kind='bar',\n",
        "                    figsize=(10,6), title = 'Cities With The Most 311 Correspondences ')\n",
        "\n",
        "# Austin is overwhelmingly the majority of calls. Del Valle is noticeable \n",
        "# but the other cities. Considering the population density and levels of activity,\n",
        "# this makes sense\n",
        "\n",
        "\n"
      ],
      "metadata": {
        "colab": {
          "base_uri": "https://localhost:8080/",
          "height": 471
        },
        "id": "qFxVcV3uZsHM",
        "outputId": "652653a4-921a-415a-a730-94a1422b5e75"
      },
      "execution_count": 47,
      "outputs": [
        {
          "output_type": "execute_result",
          "data": {
            "text/plain": [
              "<matplotlib.axes._subplots.AxesSubplot at 0x7f31c013c610>"
            ]
          },
          "metadata": {},
          "execution_count": 47
        },
        {
          "output_type": "display_data",
          "data": {
            "image/png": "[encoded data removed]",
            "text/plain": [
              "<Figure size 720x432 with 1 Axes>"
            ]
          },
          "metadata": {
            "needs_background": "light"
          }
        }
      ]
    },
    {
      "cell_type": "code",
      "source": [
        "# One can attempt to look at the zipcodes for a more info\n",
        "\n",
        "(df2_target_1['Zip Code'].value_counts()).head(30).plot(kind='bar',\n",
        "                    figsize=(10,6), title = 'Cities With The Most 311 Correspondences ')\n",
        "\n",
        "# 78704 is a highly populated area, and this zip code aligns  with the geographic\n",
        "# mean coordinates.\n"
      ],
      "metadata": {
        "colab": {
          "base_uri": "https://localhost:8080/",
          "height": 430
        },
        "id": "Gp8ydZdLbIcf",
        "outputId": "924e648f-8fac-47f1-99ef-eec9201a41ab"
      },
      "execution_count": 50,
      "outputs": [
        {
          "output_type": "execute_result",
          "data": {
            "text/plain": [
              "<matplotlib.axes._subplots.AxesSubplot at 0x7f31c0230b10>"
            ]
          },
          "metadata": {},
          "execution_count": 50
        },
        {
          "output_type": "display_data",
          "data": {
            "image/png": "[encoded data removed]",
            "text/plain": [
              "<Figure size 720x432 with 1 Axes>"
            ]
          },
          "metadata": {
            "needs_background": "light"
          }
        }
      ]
    },
    {
      "cell_type": "code",
      "source": [
        "# What are the most common types of 311 correspondences (top 30)\n",
        "\n",
        "(df2_target_1['SR Description'].value_counts()).head(30).plot(kind='bar',\n",
        "                    figsize=(10,6), title = ' Most Common Type of 311 Correspondence')\n",
        "\n",
        "# Requesting an officer for assistance makes sense as the most common type because \n",
        "# of how general the request is. Officers are often requested to work with countless\n",
        "# scenarios.\n",
        "\n"
      ],
      "metadata": {
        "colab": {
          "base_uri": "https://localhost:8080/",
          "height": 627
        },
        "id": "k6hLY3VRb901",
        "outputId": "6f8a3304-30b3-406f-e7f3-fb1b5580024c"
      },
      "execution_count": 53,
      "outputs": [
        {
          "output_type": "execute_result",
          "data": {
            "text/plain": [
              "<matplotlib.axes._subplots.AxesSubplot at 0x7f31c026acd0>"
            ]
          },
          "metadata": {},
          "execution_count": 53
        },
        {
          "output_type": "display_data",
          "data": {
            "image/png": "[encoded data removed]",
            "text/plain": [
              "<Figure size 720x432 with 1 Axes>"
            ]
          },
          "metadata": {
            "needs_background": "light"
          }
        }
      ]
    },
    {
      "cell_type": "code",
      "source": [
        ""
      ],
      "metadata": {
        "id": "x_AnWhJydhtP"
      },
      "execution_count": null,
      "outputs": []
    },
    {
      "cell_type": "markdown",
      "source": [
        "One can look at how income or the ethnic makeup of a zip code can affect response time, as this is a topic of interest to many. Austin can make an interesting case study."
      ],
      "metadata": {
        "id": "UFiX8yNod93P"
      }
    }
  ]
}